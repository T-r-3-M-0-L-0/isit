{
 "cells": [
  {
   "cell_type": "markdown",
   "metadata": {},
   "source": [
    "#### Импорт библиотек для анализа данных"
   ]
  },
  {
   "cell_type": "code",
   "execution_count": 1,
   "metadata": {},
   "outputs": [],
   "source": [
    "import time\n",
    "import pandas as pd\n",
    "import numpy as np\n",
    "import matplotlib.pyplot as plt\n",
    "from apriori_python import apriori as apr \n",
    "from efficient_apriori import apriori as eff_apr\n",
    "from fpgrowth_py import fpgrowth\n",
    "from PyARMViz import PyARMViz"
   ]
  },
  {
   "cell_type": "markdown",
   "metadata": {},
   "source": [
    "#### Загрузка данных\n",
    "\n",
    "Выполнены следующие действия:\n",
    "\n",
    "* Импорт данных из .csv файла\n",
    "* Обработка данных, удаление строк и столбцов со значениями **Null**/**None**/**NaN**"
   ]
  },
  {
   "cell_type": "code",
   "execution_count": 2,
   "metadata": {},
   "outputs": [
    {
     "data": {
      "text/html": [
       "<div>\n",
       "<style scoped>\n",
       "    .dataframe tbody tr th:only-of-type {\n",
       "        vertical-align: middle;\n",
       "    }\n",
       "\n",
       "    .dataframe tbody tr th {\n",
       "        vertical-align: top;\n",
       "    }\n",
       "\n",
       "    .dataframe thead th {\n",
       "        text-align: right;\n",
       "    }\n",
       "</style>\n",
       "<table border=\"1\" class=\"dataframe\">\n",
       "  <thead>\n",
       "    <tr style=\"text-align: right;\">\n",
       "      <th></th>\n",
       "      <th>Date</th>\n",
       "      <th>Time</th>\n",
       "      <th>Transaction</th>\n",
       "      <th>Item</th>\n",
       "    </tr>\n",
       "  </thead>\n",
       "  <tbody>\n",
       "    <tr>\n",
       "      <th>0</th>\n",
       "      <td>2016-10-30</td>\n",
       "      <td>09:58:11</td>\n",
       "      <td>1</td>\n",
       "      <td>Bread</td>\n",
       "    </tr>\n",
       "    <tr>\n",
       "      <th>1</th>\n",
       "      <td>2016-10-30</td>\n",
       "      <td>10:05:34</td>\n",
       "      <td>2</td>\n",
       "      <td>Scandinavian</td>\n",
       "    </tr>\n",
       "    <tr>\n",
       "      <th>2</th>\n",
       "      <td>2016-10-30</td>\n",
       "      <td>10:05:34</td>\n",
       "      <td>2</td>\n",
       "      <td>Scandinavian</td>\n",
       "    </tr>\n",
       "    <tr>\n",
       "      <th>3</th>\n",
       "      <td>2016-10-30</td>\n",
       "      <td>10:07:57</td>\n",
       "      <td>3</td>\n",
       "      <td>Hot chocolate</td>\n",
       "    </tr>\n",
       "    <tr>\n",
       "      <th>4</th>\n",
       "      <td>2016-10-30</td>\n",
       "      <td>10:07:57</td>\n",
       "      <td>3</td>\n",
       "      <td>Jam</td>\n",
       "    </tr>\n",
       "    <tr>\n",
       "      <th>...</th>\n",
       "      <td>...</td>\n",
       "      <td>...</td>\n",
       "      <td>...</td>\n",
       "      <td>...</td>\n",
       "    </tr>\n",
       "    <tr>\n",
       "      <th>21288</th>\n",
       "      <td>2017-04-09</td>\n",
       "      <td>14:32:58</td>\n",
       "      <td>9682</td>\n",
       "      <td>Coffee</td>\n",
       "    </tr>\n",
       "    <tr>\n",
       "      <th>21289</th>\n",
       "      <td>2017-04-09</td>\n",
       "      <td>14:32:58</td>\n",
       "      <td>9682</td>\n",
       "      <td>Tea</td>\n",
       "    </tr>\n",
       "    <tr>\n",
       "      <th>21290</th>\n",
       "      <td>2017-04-09</td>\n",
       "      <td>14:57:06</td>\n",
       "      <td>9683</td>\n",
       "      <td>Coffee</td>\n",
       "    </tr>\n",
       "    <tr>\n",
       "      <th>21291</th>\n",
       "      <td>2017-04-09</td>\n",
       "      <td>14:57:06</td>\n",
       "      <td>9683</td>\n",
       "      <td>Pastry</td>\n",
       "    </tr>\n",
       "    <tr>\n",
       "      <th>21292</th>\n",
       "      <td>2017-04-09</td>\n",
       "      <td>15:04:24</td>\n",
       "      <td>9684</td>\n",
       "      <td>Smoothies</td>\n",
       "    </tr>\n",
       "  </tbody>\n",
       "</table>\n",
       "<p>21293 rows × 4 columns</p>\n",
       "</div>"
      ],
      "text/plain": [
       "             Date      Time  Transaction           Item\n",
       "0      2016-10-30  09:58:11            1          Bread\n",
       "1      2016-10-30  10:05:34            2   Scandinavian\n",
       "2      2016-10-30  10:05:34            2   Scandinavian\n",
       "3      2016-10-30  10:07:57            3  Hot chocolate\n",
       "4      2016-10-30  10:07:57            3            Jam\n",
       "...           ...       ...          ...            ...\n",
       "21288  2017-04-09  14:32:58         9682         Coffee\n",
       "21289  2017-04-09  14:32:58         9682            Tea\n",
       "21290  2017-04-09  14:57:06         9683         Coffee\n",
       "21291  2017-04-09  14:57:06         9683         Pastry\n",
       "21292  2017-04-09  15:04:24         9684      Smoothies\n",
       "\n",
       "[21293 rows x 4 columns]"
      ]
     },
     "execution_count": 2,
     "metadata": {},
     "output_type": "execute_result"
    }
   ],
   "source": [
    "dataset = pd.read_csv('BreadBasket_DMS.csv')\n",
    "dataset"
   ]
  },
  {
   "cell_type": "code",
   "execution_count": 3,
   "metadata": {},
   "outputs": [
    {
     "data": {
      "text/plain": [
       "[['Bread'],\n",
       " ['Scandinavian', 'Scandinavian'],\n",
       " ['Hot chocolate', 'Jam', 'Cookies'],\n",
       " ['Muffin'],\n",
       " ['Coffee', 'Pastry', 'Bread'],\n",
       " ['Medialuna', 'Pastry', 'Muffin'],\n",
       " ['Medialuna', 'Pastry', 'Coffee', 'Tea'],\n",
       " ['Pastry', 'Bread'],\n",
       " ['Bread', 'Muffin'],\n",
       " ['Scandinavian', 'Medialuna'],\n",
       " ['Bread', 'Medialuna', 'Bread'],\n",
       " ['Jam', 'Coffee', 'Tartine', 'Pastry', 'Tea'],\n",
       " ['Basket', 'Bread', 'Coffee'],\n",
       " ['Bread', 'Medialuna', 'Pastry', 'Mineral water', 'Scandinavian'],\n",
       " ['Bread', 'Medialuna', 'Coffee'],\n",
       " ['Hot chocolate'],\n",
       " ['Farm House'],\n",
       " ['Farm House', 'Bread'],\n",
       " ['Bread', 'Medialuna'],\n",
       " ['Coffee', 'Coffee', 'Medialuna', 'Bread'],\n",
       " ['Jam'],\n",
       " ['Scandinavian', 'Muffin'],\n",
       " ['Bread'],\n",
       " ['Scandinavian'],\n",
       " ['Fudge'],\n",
       " ['Scandinavian'],\n",
       " ['Coffee', 'Bread'],\n",
       " ['Bread', 'Jam'],\n",
       " ['Bread'],\n",
       " ['Basket'],\n",
       " ['Scandinavian', 'Muffin'],\n",
       " ['Coffee'],\n",
       " ['Coffee', 'Muffin'],\n",
       " ['Muffin', 'Scandinavian'],\n",
       " ['Tea', 'Bread'],\n",
       " ['Coffee', 'Bread'],\n",
       " ['Bread', 'Tea'],\n",
       " ['Scandinavian'],\n",
       " ['Juice', 'Tartine', 'Coffee', 'Muffin'],\n",
       " ['Scandinavian'],\n",
       " ['Bread', 'Tea'],\n",
       " ['Scandinavian', 'Fudge'],\n",
       " ['Coffee', 'Medialuna'],\n",
       " ['Coffee', 'Hot chocolate', 'Medialuna'],\n",
       " ['Coffee'],\n",
       " [\"Ella's Kitchen Pouches\", 'Juice', 'Bread', 'Muffin', 'Jam'],\n",
       " ['Coffee'],\n",
       " ['Coffee', 'Coffee', 'Medialuna'],\n",
       " ['Bread', 'Victorian Sponge'],\n",
       " ['Bread'],\n",
       " ['Scandinavian'],\n",
       " ['Bread'],\n",
       " ['Frittata', 'Coffee', 'Tea', 'Hearty & Seasonal'],\n",
       " ['Coffee', 'Frittata'],\n",
       " ['Scandinavian'],\n",
       " ['Victorian Sponge', 'Hot chocolate', 'Tea', 'Soup'],\n",
       " ['Tea'],\n",
       " ['Cookies', 'Coffee', 'Juice', 'Coffee'],\n",
       " ['Coffee'],\n",
       " ['Pick and Mix Bowls',\n",
       "  'Hearty & Seasonal',\n",
       "  'Hearty & Seasonal',\n",
       "  'Coffee',\n",
       "  'Smoothies',\n",
       "  'Coffee'],\n",
       " ['Coffee'],\n",
       " ['Cake', 'Tartine', 'Mighty Protein', 'Tea', 'Coffee'],\n",
       " ['Hearty & Seasonal', 'Frittata', 'Mineral water'],\n",
       " ['Hearty & Seasonal', 'Mineral water', 'Muffin'],\n",
       " ['Frittata', 'Coffee', 'Tea', 'Scandinavian', 'Chicken sand'],\n",
       " ['Bread', 'Tea', 'Victorian Sponge'],\n",
       " ['Fudge'],\n",
       " ['Muffin'],\n",
       " ['Coffee', 'Bread'],\n",
       " ['Bread'],\n",
       " ['Coffee', 'Bread', 'Jam', 'Frittata'],\n",
       " ['Coffee'],\n",
       " ['Scandinavian'],\n",
       " ['Fudge'],\n",
       " ['Fudge', 'Tea', 'Coffee', 'Muffin'],\n",
       " ['Frittata', 'Bread', 'Coffee'],\n",
       " ['Coffee', 'Cake'],\n",
       " ['Tartine', 'Bread'],\n",
       " ['Coffee', 'Bread'],\n",
       " ['Bread'],\n",
       " ['Coffee', 'Coffee', 'Pastry', 'Medialuna'],\n",
       " ['Juice'],\n",
       " ['Bread'],\n",
       " ['Coffee', 'Coffee', 'Jam'],\n",
       " ['Bread'],\n",
       " ['Bread', 'Coffee'],\n",
       " ['Tea'],\n",
       " ['Coffee'],\n",
       " ['Bread', 'Coke'],\n",
       " ['Coffee', 'Coffee'],\n",
       " ['Tea', 'Pastry', 'Farm House'],\n",
       " ['Pastry', 'Pastry', 'Coffee', 'Juice'],\n",
       " ['Coffee', 'Pastry', 'Juice'],\n",
       " ['Farm House'],\n",
       " ['Pastry', 'Pastry', 'Coffee', 'Bread'],\n",
       " ['Bread'],\n",
       " ['Coffee', 'Pastry'],\n",
       " ['Farm House', 'Bread'],\n",
       " ['Coffee', 'Coffee', 'Medialuna', 'Muffin', 'Coffee'],\n",
       " ['Coffee', 'Tea', 'Cake'],\n",
       " ['Coffee', 'Coffee', 'Pastry', 'Pastry'],\n",
       " ['Coffee', 'Tea'],\n",
       " ['Farm House', 'Muffin'],\n",
       " ['Bread', 'Muffin', 'Pastry'],\n",
       " ['Pastry'],\n",
       " ['Coffee'],\n",
       " ['Coffee'],\n",
       " ['Coffee', 'Cake'],\n",
       " ['Farm House'],\n",
       " ['Bread'],\n",
       " ['Coffee'],\n",
       " ['Cookies', 'Cake', 'Coffee', 'My-5 Fruit Shoot'],\n",
       " ['Cookies', 'Cookies', 'Tea', 'Pastry'],\n",
       " ['Coffee', 'Coffee', 'Muffin'],\n",
       " ['Farm House'],\n",
       " ['Coffee', 'Bread'],\n",
       " ['Cookies'],\n",
       " ['Jam', 'Coffee', 'Coffee', 'Juice'],\n",
       " ['Coffee', 'Soup'],\n",
       " ['Tea'],\n",
       " ['Coffee', 'Jam'],\n",
       " ['Farm House', 'Tartine', 'Coffee', 'Tea'],\n",
       " ['Coffee', 'Coffee', 'Cake'],\n",
       " ['Coffee', 'Coffee', 'Muffin'],\n",
       " ['Bread', 'Coffee'],\n",
       " ['Tea', 'Juice', 'Pick and Mix Bowls', 'Cookies'],\n",
       " ['Hearty & Seasonal', 'Soup'],\n",
       " ['Hearty & Seasonal', 'Tea', 'Farm House'],\n",
       " ['Bread'],\n",
       " ['Tea', 'Soup'],\n",
       " ['Farm House'],\n",
       " ['Soup', 'Hearty & Seasonal', 'Coffee'],\n",
       " ['Bread', 'Muffin', 'Hearty & Seasonal'],\n",
       " ['Coffee', 'Coffee', 'Cookies'],\n",
       " ['Bread'],\n",
       " ['Tea', 'Muffin'],\n",
       " ['Tea'],\n",
       " ['Soup', 'Hearty & Seasonal'],\n",
       " ['Coffee', 'Tea', 'Focaccia'],\n",
       " ['Sandwich'],\n",
       " ['Tartine', 'Coffee'],\n",
       " ['Fudge', 'Coffee', 'Coffee'],\n",
       " ['Coffee'],\n",
       " ['Bread'],\n",
       " ['Coke', 'Soup'],\n",
       " ['Muffin'],\n",
       " ['Tea', 'Coffee', 'Cookies', 'Muffin'],\n",
       " ['Mighty Protein', 'Hearty & Seasonal', 'Coffee', 'Coke'],\n",
       " ['Tea', 'Muffin', 'Sandwich'],\n",
       " ['Coffee', 'Muffin'],\n",
       " ['Coffee', 'Bread'],\n",
       " ['Coffee', 'Muffin'],\n",
       " ['Bread', 'Hot chocolate', 'Cookies'],\n",
       " ['Mineral water', 'Muffin'],\n",
       " ['Tea'],\n",
       " ['Muffin'],\n",
       " ['Coffee', 'Juice'],\n",
       " ['Coffee', 'Muffin'],\n",
       " ['Tea'],\n",
       " ['Coffee', 'Muffin'],\n",
       " ['Sandwich', 'Hearty & Seasonal', 'Bread', 'Mineral water'],\n",
       " ['Tea', 'Coffee'],\n",
       " ['Mineral water'],\n",
       " ['Coffee'],\n",
       " ['Soup', 'Tea'],\n",
       " ['Bread', 'Coffee'],\n",
       " ['Bread', 'Muffin'],\n",
       " ['Coffee'],\n",
       " ['Bread'],\n",
       " ['Cookies', 'Coffee'],\n",
       " ['Coffee', 'Pastry'],\n",
       " ['Coffee', 'Pastry'],\n",
       " ['Jam', 'Tea'],\n",
       " ['Tea', 'Tea'],\n",
       " ['Pastry', 'Pastry', \"Ella's Kitchen Pouches\"],\n",
       " ['Pastry'],\n",
       " ['Farm House', 'Tea'],\n",
       " ['Tea', 'Victorian Sponge'],\n",
       " ['Tea', 'Pastry'],\n",
       " ['Bread'],\n",
       " ['Coffee'],\n",
       " ['Bread', 'Coffee'],\n",
       " ['Coffee', 'Pastry', 'Pastry'],\n",
       " ['Soup', 'Tea', 'Bread'],\n",
       " ['Coffee'],\n",
       " ['Bread', 'Bread'],\n",
       " ['Bread', 'Scandinavian'],\n",
       " ['Bread', 'Cake', 'Cookies'],\n",
       " ['Coffee', 'Coffee', 'Tea'],\n",
       " ['Coffee', 'Cookies'],\n",
       " ['Coffee'],\n",
       " ['Bread', 'Coffee', 'Pastry'],\n",
       " ['Coffee', 'Coffee'],\n",
       " ['Coffee'],\n",
       " ['Scandinavian', 'Bread'],\n",
       " ['Coffee', 'Coffee', 'Pastry'],\n",
       " ['Scandinavian', 'Coffee', 'Pastry'],\n",
       " ['Hearty & Seasonal', 'Coffee', 'Muffin'],\n",
       " ['Bread'],\n",
       " ['Coffee'],\n",
       " ['Scandinavian'],\n",
       " ['Soup', 'Coffee'],\n",
       " ['Coffee', 'Cookies', 'Tartine'],\n",
       " ['Bread'],\n",
       " ['Bread', 'Tea', 'Tea'],\n",
       " ['Pastry', 'Coffee'],\n",
       " ['Tartine', 'Coffee'],\n",
       " ['Bread', 'Cookies'],\n",
       " ['Sandwich'],\n",
       " ['Tartine'],\n",
       " ['Bread', 'Pastry'],\n",
       " ['Bread', 'Scandinavian'],\n",
       " ['Scandinavian'],\n",
       " ['Alfajores', 'Coffee'],\n",
       " ['Coffee'],\n",
       " ['Coffee', 'Coke', 'Soup'],\n",
       " ['Cake'],\n",
       " ['Tea', 'Sandwich', 'Soup'],\n",
       " ['Coffee'],\n",
       " ['Hearty & Seasonal', 'Bread'],\n",
       " ['Alfajores'],\n",
       " ['Cake'],\n",
       " ['Tea', 'Tea', 'Bread'],\n",
       " ['Coffee', 'Tea', 'Bread', 'Soup'],\n",
       " ['Coffee', 'Coffee'],\n",
       " ['Scandinavian'],\n",
       " ['Fudge'],\n",
       " ['Coffee', 'Sandwich'],\n",
       " ['Tea', 'Bread', 'Cookies', 'Pastry'],\n",
       " ['Muffin'],\n",
       " ['Scandinavian'],\n",
       " ['Jam', 'Tea'],\n",
       " ['Juice', 'Tea', 'Alfajores'],\n",
       " ['Cake', 'Muffin', 'Coffee', 'Soup'],\n",
       " ['Hot chocolate', 'Cake', 'Coffee'],\n",
       " ['Cake', 'Cookies'],\n",
       " ['Tea', 'Bread'],\n",
       " ['Alfajores', 'Coffee', 'Coffee', 'Coffee', 'Juice'],\n",
       " ['Coffee', 'Tea', 'Soup'],\n",
       " ['Hot chocolate'],\n",
       " ['Cookies'],\n",
       " ['Coffee', 'Medialuna'],\n",
       " ['Bread', 'Eggs'],\n",
       " ['Scandinavian'],\n",
       " ['Medialuna'],\n",
       " ['Coffee', 'Coffee', 'Pastry'],\n",
       " ['Coffee', 'Bread'],\n",
       " ['Bread', 'Coffee', 'Pastry'],\n",
       " ['Coffee', 'Pastry'],\n",
       " ['Pastry'],\n",
       " ['Coffee'],\n",
       " ['Coffee'],\n",
       " ['Coffee', 'Hot chocolate', 'Pastry'],\n",
       " ['Coke'],\n",
       " ['Coffee', 'Jam'],\n",
       " ['Tea', 'Bread', 'Pastry'],\n",
       " ['Coffee', 'Alfajores', 'Farm House'],\n",
       " ['Tea', 'Pastry'],\n",
       " ['Bread'],\n",
       " ['Coffee', 'Jam'],\n",
       " ['Coffee', 'Tea', 'Coffee', 'Pastry'],\n",
       " ['Farm House'],\n",
       " ['Coffee', 'Bread', 'Pastry'],\n",
       " ['Farm House'],\n",
       " ['Coffee', 'Coffee', 'Pastry'],\n",
       " ['Farm House'],\n",
       " ['Coffee', 'Pastry', 'Coffee'],\n",
       " ['Coffee', 'Pastry'],\n",
       " ['Bread', 'Bread'],\n",
       " ['Bread', 'Coffee', 'Pastry'],\n",
       " ['Pastry', 'Coffee'],\n",
       " ['Coffee', 'Farm House'],\n",
       " ['Farm House', 'Farm House', 'Pastry'],\n",
       " ['Bread', 'Juice', 'Alfajores'],\n",
       " ['Coffee', 'Pastry'],\n",
       " ['Bread', 'Alfajores'],\n",
       " ['Bread'],\n",
       " ['Coffee', 'Cookies'],\n",
       " ['Coffee'],\n",
       " ['Cookies'],\n",
       " ['Hearty & Seasonal'],\n",
       " ['Coffee'],\n",
       " ['Jam', 'Tartine', 'Bread'],\n",
       " ['Farm House', 'Scandinavian'],\n",
       " ['Hearty & Seasonal', 'Coffee', 'Muffin', 'Scandinavian'],\n",
       " ['Tartine', 'Pick and Mix Bowls', 'Coffee', 'Coke'],\n",
       " ['Bread'],\n",
       " ['Scandinavian', 'Farm House', 'Alfajores', 'Coffee', 'Coffee'],\n",
       " ['Juice', 'Mineral water', 'Soup'],\n",
       " ['Soup', 'Tea'],\n",
       " ['Juice', 'Tea', 'Cookies', 'Soup'],\n",
       " ['Hearty & Seasonal', 'Tea'],\n",
       " ['Fudge'],\n",
       " ['Coffee', 'Mineral water', 'Juice', 'Soup'],\n",
       " ['Hearty & Seasonal'],\n",
       " ['Hearty & Seasonal', 'Smoothies'],\n",
       " ['Hearty & Seasonal', 'Tea'],\n",
       " ['Coffee', 'Sandwich', 'Sandwich'],\n",
       " ['Cookies', 'Farm House'],\n",
       " ['Soup', 'Tea', 'Juice'],\n",
       " ['Soup'],\n",
       " ['Coffee'],\n",
       " ['Bread'],\n",
       " ['Cookies', 'Tea'],\n",
       " ['Soup', 'Hearty & Seasonal', 'Bread'],\n",
       " ['Coffee'],\n",
       " ['Coffee'],\n",
       " ['Coffee', 'Tea'],\n",
       " ['Bread'],\n",
       " ['Tea'],\n",
       " ['Coffee', 'Tea'],\n",
       " ['Coffee'],\n",
       " ['Fudge'],\n",
       " ['Tea'],\n",
       " ['Soup', 'Tea'],\n",
       " ['Juice'],\n",
       " ['Alfajores'],\n",
       " ['Bread'],\n",
       " ['Coffee', 'Alfajores'],\n",
       " ['Juice', 'Alfajores', 'Cookies', 'Pick and Mix Bowls', 'Mineral water'],\n",
       " ['Coffee', 'Alfajores'],\n",
       " ['Fudge'],\n",
       " ['Mighty Protein', 'Juice'],\n",
       " ['Coffee', 'Mineral water', 'Alfajores'],\n",
       " ['Mighty Protein', 'Coffee'],\n",
       " ['Alfajores'],\n",
       " ['Coffee', 'Bread'],\n",
       " ['Medialuna', 'Medialuna'],\n",
       " ['Medialuna', 'Bread'],\n",
       " ['Farm House'],\n",
       " ['Coffee', 'Pastry'],\n",
       " ['Farm House', 'Coffee', 'Coffee', 'Pastry', 'Pastry', 'Coffee'],\n",
       " ['Medialuna'],\n",
       " ['Bread', 'Tea', 'Sandwich'],\n",
       " ['Bread'],\n",
       " ['Jam', 'Coffee', 'Farm House'],\n",
       " ['Focaccia'],\n",
       " ['Bread'],\n",
       " ['Tartine', 'Pastry', 'Bread', 'My-5 Fruit Shoot'],\n",
       " ['Farm House', 'Pastry'],\n",
       " ['Bread', 'Pastry'],\n",
       " ['Pastry', 'Bread'],\n",
       " ['Jam', 'Coffee'],\n",
       " ['Farm House'],\n",
       " ['Bread', 'Pastry'],\n",
       " ['Coffee', 'Tea', 'Bread'],\n",
       " ['Jam'],\n",
       " ['Pastry', 'Medialuna', 'Medialuna'],\n",
       " ['Coffee'],\n",
       " ['Tea'],\n",
       " ['Bread'],\n",
       " ['Bread', 'Pastry'],\n",
       " ['Pastry'],\n",
       " ['Farm House'],\n",
       " ['Tea'],\n",
       " ['Coffee', 'Brownie', 'Alfajores', 'Fudge'],\n",
       " ['Bread', 'Fudge', 'Cookies'],\n",
       " ['Coffee'],\n",
       " ['Bread'],\n",
       " ['Coffee', 'Coffee', 'Jam', 'Pastry'],\n",
       " ['Soup', 'Coffee'],\n",
       " ['Smoothies', 'Soup', 'Hearty & Seasonal', 'Pastry'],\n",
       " ['Pastry', 'Bread'],\n",
       " ['Pastry', 'Medialuna', 'Tea', 'Coffee'],\n",
       " ['Bread', 'Cookies'],\n",
       " ['Coffee',\n",
       "  'Coffee',\n",
       "  'Bread',\n",
       "  'Hearty & Seasonal',\n",
       "  'Pick and Mix Bowls',\n",
       "  'Sandwich',\n",
       "  'Focaccia'],\n",
       " ['Coffee'],\n",
       " ['Coffee', 'Sandwich', 'Brownie'],\n",
       " ['Brownie', 'Cookies'],\n",
       " ['Coffee'],\n",
       " ['Coffee'],\n",
       " ['Sandwich', 'Bread', 'Coffee'],\n",
       " ['Coffee', 'Hot chocolate'],\n",
       " ['Tea'],\n",
       " ['Sandwich', 'Coffee', 'Brownie'],\n",
       " ['Brownie', 'Pastry', 'Focaccia', 'Farm House'],\n",
       " ['Cake', 'Focaccia'],\n",
       " ['Soup', 'Hearty & Seasonal', 'Mineral water'],\n",
       " ['Hearty & Seasonal'],\n",
       " ['Hearty & Seasonal'],\n",
       " ['Coffee', 'Coffee', 'Pastry'],\n",
       " ['Coffee'],\n",
       " ['Tea', 'Cake'],\n",
       " ['Coffee', 'Soup'],\n",
       " ['Bread', 'Focaccia', 'Fudge'],\n",
       " ['Hot chocolate', 'Coffee', 'Alfajores'],\n",
       " ['Brownie', 'Pastry', 'Cake'],\n",
       " ['Medialuna', 'Alfajores', 'Dulce de Leche'],\n",
       " ['Dulce de Leche', 'Alfajores'],\n",
       " ['Bread', 'Cake'],\n",
       " ['Cake', 'Coffee'],\n",
       " ['Bread'],\n",
       " ['Sandwich'],\n",
       " ['Bread', 'Coffee', 'Alfajores', 'Medialuna'],\n",
       " ['Coffee'],\n",
       " ['Bread', 'Alfajores'],\n",
       " ['Tea', 'Coffee'],\n",
       " ['Bread'],\n",
       " ['Dulce de Leche'],\n",
       " ['Farm House'],\n",
       " ['Fudge'],\n",
       " ['Coffee'],\n",
       " ['Coffee', 'Alfajores', 'Juice', \"Ella's Kitchen Pouches\", 'Brownie'],\n",
       " ['Alfajores'],\n",
       " ['Alfajores', 'Brownie', 'Cookies', 'Bread', 'Juice'],\n",
       " ['Cake', 'Cookies'],\n",
       " ['Pick and Mix Bowls'],\n",
       " ['Coffee'],\n",
       " ['Farm House'],\n",
       " ['Tea'],\n",
       " ['Coffee'],\n",
       " ['Focaccia', 'Farm House'],\n",
       " ['Dulce de Leche'],\n",
       " ['Juice', 'My-5 Fruit Shoot', \"Ella's Kitchen Pouches\", 'Cookies'],\n",
       " ['Bread'],\n",
       " ['Hot chocolate'],\n",
       " ['Coffee'],\n",
       " ['Coffee'],\n",
       " ['Coffee'],\n",
       " ['Medialuna'],\n",
       " ['Bread', 'Tea', 'Jam'],\n",
       " ['Farm House'],\n",
       " ['Bread'],\n",
       " ['Coffee'],\n",
       " ['Medialuna', 'Coffee'],\n",
       " ['Bread'],\n",
       " ['Medialuna', 'Pastry', 'Medialuna'],\n",
       " ['Coffee', 'Coffee', 'Jam'],\n",
       " ['Bread', 'Coffee'],\n",
       " ['Coffee', 'Coffee'],\n",
       " ['Bread'],\n",
       " ['Hot chocolate'],\n",
       " ['Bread', 'Medialuna'],\n",
       " ['Bread', 'Jam'],\n",
       " ['Jam', 'Bread'],\n",
       " ['Coffee', 'Bread'],\n",
       " ['Bread', 'Farm House'],\n",
       " ['Bread', 'Coffee', 'Coffee'],\n",
       " ['Tea', 'Pastry'],\n",
       " ['Coffee', 'Coffee'],\n",
       " ['Bread'],\n",
       " ['Pastry', 'Brownie'],\n",
       " ['Farm House'],\n",
       " ['Coffee'],\n",
       " ['Tea', 'Coffee', 'Honey', 'Cookies'],\n",
       " ['Tea'],\n",
       " ['Bread'],\n",
       " ['Brownie'],\n",
       " ['Bread', 'Coffee'],\n",
       " ['Bread'],\n",
       " ['Coffee'],\n",
       " ['Tea', 'Tea'],\n",
       " ['Tea'],\n",
       " ['Coffee', 'Coffee'],\n",
       " ['Bread', 'Coffee'],\n",
       " ['Bread', 'Bread'],\n",
       " ['Bread', 'The BART'],\n",
       " ['Coffee', 'Brownie'],\n",
       " ['Coffee'],\n",
       " ['Coffee', 'Brownie'],\n",
       " ['Mineral water', 'Coffee', 'Coffee', 'Tartine'],\n",
       " ['Brownie', 'Coffee'],\n",
       " ['Brownie', 'Juice'],\n",
       " ['Coffee',\n",
       "  'Coffee',\n",
       "  'Bread',\n",
       "  'Tea',\n",
       "  'Alfajores',\n",
       "  'Medialuna',\n",
       "  'Pastry',\n",
       "  'Jam'],\n",
       " ['Bread'],\n",
       " ['Fudge', 'Fudge'],\n",
       " ['Coffee', 'Pick and Mix Bowls'],\n",
       " ['Pastry', 'Bread'],\n",
       " ['Soup', 'Scandinavian', 'Coffee', 'Mineral water'],\n",
       " ['Juice', 'Mineral water', 'Sandwich', 'Pick and Mix Bowls'],\n",
       " ['Bread', 'Pastry', 'Bread'],\n",
       " ['Hearty & Seasonal', 'Hearty & Seasonal', 'Coffee', 'Coffee'],\n",
       " ['Bread', 'Hearty & Seasonal', 'Coffee', 'Mineral water'],\n",
       " ['Coffee', 'Tartine', 'Sandwich', 'Brownie'],\n",
       " ['Coffee', 'Brownie'],\n",
       " ['Alfajores', 'Coffee', 'Tartine'],\n",
       " ['Mighty Protein', 'Coffee'],\n",
       " ['Coffee', 'Hot chocolate'],\n",
       " ['Soup', 'Jam', 'Coffee', 'Coffee'],\n",
       " ['Mineral water', 'Brownie'],\n",
       " ['Scandinavian', 'Coffee'],\n",
       " ['Scandinavian', 'Coffee'],\n",
       " ['Coffee', 'Coffee'],\n",
       " ['Coffee', 'Coffee', 'Hot chocolate', 'Brownie', 'Hearty & Seasonal'],\n",
       " ['Tea', 'Cake'],\n",
       " ['Medialuna'],\n",
       " ['Alfajores', 'Tea', 'Coffee'],\n",
       " ['Coffee', 'Juice', 'Brownie', 'Alfajores'],\n",
       " ['Coffee', 'Sandwich'],\n",
       " ['Bread', 'Soup'],\n",
       " ['Soup', 'Bread'],\n",
       " ['Bread'],\n",
       " ['Tea', 'Brownie', 'Cookies'],\n",
       " ['Coffee', 'Bread', 'Brownie'],\n",
       " ['Brownie'],\n",
       " ['Cookies', 'Bread', 'Jam'],\n",
       " ['Coffee'],\n",
       " ['Tea', 'Brownie', 'Tea'],\n",
       " ['Alfajores', 'Medialuna', 'Scandinavian'],\n",
       " ['Hot chocolate', 'Coffee', 'Alfajores', 'Cookies'],\n",
       " ['Brownie'],\n",
       " ['Fudge'],\n",
       " ['Tea', 'Brownie'],\n",
       " ['Dulce de Leche', 'Fudge'],\n",
       " ['Bread', 'Scandinavian', 'Fudge', 'Granola', 'Pastry', 'Coffee'],\n",
       " ['Bread', 'Fudge'],\n",
       " ['Hot chocolate', 'Coffee', 'Medialuna', 'Medialuna'],\n",
       " ['Bread'],\n",
       " ['Bread', 'Medialuna'],\n",
       " ['Bread', 'Coffee', 'Medialuna', 'Jam'],\n",
       " ['Jam', 'Coffee', 'Brownie'],\n",
       " ['Bread', 'Coffee', 'Jam'],\n",
       " ['Scandinavian'],\n",
       " ['Coffee', 'Cookies'],\n",
       " ['Coffee', 'Coffee', 'Scandinavian'],\n",
       " ['Bread'],\n",
       " ['Bread', 'Jam', 'Brownie', 'Coffee', 'Coffee'],\n",
       " ['Coffee'],\n",
       " ['Brownie', 'Hot chocolate'],\n",
       " ['Bread'],\n",
       " ['Bread', 'Bread', 'Medialuna'],\n",
       " ['Coffee', 'Hot chocolate', 'Brownie'],\n",
       " ['Scandinavian', 'Basket', 'Bread'],\n",
       " ['Coffee', 'Bread', 'Brownie'],\n",
       " ['Cake', 'Fudge'],\n",
       " ['Coffee', 'Hot chocolate', 'Coffee', 'Basket'],\n",
       " ['Scandinavian'],\n",
       " ['Scandinavian'],\n",
       " ['Coffee', 'Bread', 'Coffee', 'Cake', 'Medialuna'],\n",
       " ['Coffee', 'Coffee', 'Medialuna'],\n",
       " ['Bread', 'Pastry'],\n",
       " ['Bread', 'Brownie'],\n",
       " ['Medialuna', 'Farm House'],\n",
       " ['Bread', 'Medialuna'],\n",
       " ['Brownie', 'Medialuna', 'Hot chocolate', 'Smoothies', 'Coffee'],\n",
       " ['Bread', 'Tea', 'Coffee', 'Brownie', 'Medialuna'],\n",
       " ['Medialuna', 'Medialuna', 'Cookies'],\n",
       " ['Coffee', 'Medialuna'],\n",
       " ['Bread', 'Fudge'],\n",
       " ['Coffee', 'Tea'],\n",
       " ['Coffee', 'Cookies'],\n",
       " ['Pastry', 'Bread', 'Brownie'],\n",
       " ['Bread', 'Coffee', 'Bread', 'Coffee', 'Coffee', 'Tea'],\n",
       " ['Bread'],\n",
       " ['Medialuna', 'Coffee'],\n",
       " ['My-5 Fruit Shoot', 'Coffee', 'Brownie'],\n",
       " ['Coffee', 'Fudge'],\n",
       " ['Coffee'],\n",
       " ['Coffee', 'Basket'],\n",
       " ['Farm House'],\n",
       " ['Farm House'],\n",
       " ['Coffee', 'Brownie'],\n",
       " ['Scandinavian',\n",
       "  'Brownie',\n",
       "  'My-5 Fruit Shoot',\n",
       "  'Tartine',\n",
       "  'Coffee',\n",
       "  'Hot chocolate',\n",
       "  'Brownie'],\n",
       " ['Brownie', 'Bread', 'Hot chocolate'],\n",
       " ['Jam', 'Fudge'],\n",
       " ['Coffee'],\n",
       " ['Fudge'],\n",
       " ['Mighty Protein', 'Hearty & Seasonal', 'Coffee', 'Tea', 'Cake'],\n",
       " ['Coffee'],\n",
       " ['Scandinavian'],\n",
       " ['Cake', 'Victorian Sponge', 'Scandinavian'],\n",
       " ['Tea', 'Cake'],\n",
       " ['Coffee', 'Coffee'],\n",
       " ['Coffee', 'Coffee'],\n",
       " ['Bread'],\n",
       " ['Frittata'],\n",
       " ['Coffee', 'Coffee', 'My-5 Fruit Shoot', 'Brownie'],\n",
       " ['Focaccia', 'Fairy Doors', 'Tea', 'Coffee', 'Coffee'],\n",
       " ['Hot chocolate', 'Hearty & Seasonal', 'Pick and Mix Bowls', 'Brownie'],\n",
       " ['Frittata', 'Coffee'],\n",
       " ['Bread', 'Brownie'],\n",
       " ['Frittata'],\n",
       " ['Scandinavian'],\n",
       " ['Bread'],\n",
       " ['Farm House'],\n",
       " ['Pick and Mix Bowls', 'Jam', 'Soup', 'Brownie'],\n",
       " ['Hearty & Seasonal', 'Coffee', 'Tea'],\n",
       " ['Bread'],\n",
       " ['Bread', 'Frittata'],\n",
       " ['Scandinavian', 'Tartine', 'Hot chocolate', 'Coffee'],\n",
       " ['Coffee', 'Mighty Protein'],\n",
       " ['Frittata', 'Coffee'],\n",
       " ['Scandinavian'],\n",
       " ['Hearty & Seasonal', 'Coffee', 'Mineral water'],\n",
       " ['Scandinavian'],\n",
       " ['Bread', 'Coffee'],\n",
       " ['Hearty & Seasonal', 'Soup', 'Bread', 'Coffee'],\n",
       " ['Brownie', 'Cake', 'Tea'],\n",
       " ['Mighty Protein', 'Coffee'],\n",
       " ['Coffee', 'Tea', 'Brownie', 'Soup'],\n",
       " ['Cake'],\n",
       " ['Hot chocolate', 'Coffee', 'Cake'],\n",
       " ['Hearty & Seasonal', 'Coffee'],\n",
       " ['Coffee'],\n",
       " ['Frittata', 'Coffee', 'Brownie'],\n",
       " ['Sandwich', 'Frittata', 'Coke', 'Mineral water', 'Brownie'],\n",
       " ['Granola', 'Scandinavian'],\n",
       " ['Coffee', 'Coke', 'Coffee'],\n",
       " ['Tea', 'Tea', 'Brownie', 'Cake'],\n",
       " ['Fudge'],\n",
       " ['Coffee'],\n",
       " ['Brownie'],\n",
       " ['Cake'],\n",
       " ['Tea'],\n",
       " ['Coffee', 'Coffee', 'Coffee', 'Soup', 'Sandwich', 'Cake'],\n",
       " ['Coffee', 'Bread', 'Brownie'],\n",
       " ['Bread', 'Coffee', 'Brownie'],\n",
       " ['Coffee', 'Bread', 'Brownie'],\n",
       " ['Brownie', 'Coffee'],\n",
       " ['Coffee', 'Soup', 'Brownie'],\n",
       " ['Fudge'],\n",
       " ['Bread', 'Focaccia'],\n",
       " ['Bread', 'Farm House', 'Jam'],\n",
       " ['Hot chocolate', 'Brownie'],\n",
       " ['Hot chocolate'],\n",
       " ['Coffee', 'Brownie'],\n",
       " ['Medialuna', 'Pastry'],\n",
       " ['Bread'],\n",
       " ['Coffee', 'Pastry', 'Bread', 'Coffee', 'Mineral water'],\n",
       " ['Pastry', 'Bread', 'Hot chocolate'],\n",
       " ['Bread'],\n",
       " ['Bread'],\n",
       " ['Jam',\n",
       "  'Coffee',\n",
       "  'Coffee',\n",
       "  'Bread',\n",
       "  'Coffee',\n",
       "  'Coffee',\n",
       "  'Pastry',\n",
       "  'Medialuna',\n",
       "  'Coffee',\n",
       "  'Coffee',\n",
       "  'Focaccia',\n",
       "  'Hearty & Seasonal'],\n",
       " ['Bread', 'Farm House', 'Coffee', 'Jam'],\n",
       " ['Farm House'],\n",
       " ['Coffee', 'Tea', 'Pastry', 'Medialuna'],\n",
       " ['Pastry', 'Medialuna', 'Coffee'],\n",
       " ['Coffee', 'Hot chocolate', 'Basket', 'Farm House'],\n",
       " ['Pastry', 'Farm House'],\n",
       " ['Hot chocolate', 'Coffee', 'My-5 Fruit Shoot'],\n",
       " ['Pastry', 'Medialuna', 'Muffin'],\n",
       " ['Farm House'],\n",
       " ['Muffin', 'Pastry', 'Focaccia'],\n",
       " ['Coffee', 'Tea'],\n",
       " ['Bread'],\n",
       " ['Focaccia'],\n",
       " ['Coffee', 'Hot chocolate', 'Pastry', 'Jam'],\n",
       " ['Bread'],\n",
       " ['Coffee', 'Pastry', 'Bread'],\n",
       " ['Tea'],\n",
       " ['Hot chocolate', 'Coffee', 'Mineral water'],\n",
       " ['Coffee', 'Coffee'],\n",
       " ['Coffee', 'Jam', 'Coffee', 'Coffee'],\n",
       " ['Muffin'],\n",
       " ['Bread'],\n",
       " ['Bread'],\n",
       " ['Bread', 'Muffin', 'Hot chocolate', 'Coffee'],\n",
       " ['Muffin', 'Fudge'],\n",
       " ['Bread'],\n",
       " ['Bread'],\n",
       " ['Farm House'],\n",
       " ['Coffee', 'Muffin'],\n",
       " ['Focaccia'],\n",
       " ['Bread', 'Tea'],\n",
       " ['Coffee', 'Hot chocolate'],\n",
       " ['Coffee', 'Tartine', 'Coffee', 'Pick and Mix Bowls', 'Jam'],\n",
       " ['Jam'],\n",
       " ['Tartine'],\n",
       " ['Bread', 'Coffee'],\n",
       " ['Coffee',\n",
       "  'Coffee',\n",
       "  'Mineral water',\n",
       "  'Juice',\n",
       "  'Tartine',\n",
       "  'Pick and Mix Bowls'],\n",
       " ['Bread', 'Tea', 'Juice'],\n",
       " ['Coffee', 'Coffee', 'Cake'],\n",
       " ['Farm House'],\n",
       " ['Farm House'],\n",
       " ['Cake', 'Brownie', 'Coffee', 'Coffee'],\n",
       " ['Focaccia', 'Coffee'],\n",
       " ['Tea', 'Coffee', 'Muffin'],\n",
       " ['Coffee'],\n",
       " ['Tea', 'Coffee'],\n",
       " ['Hearty & Seasonal', 'Cake', 'Coffee'],\n",
       " ['Bread', 'Tea', 'Cake'],\n",
       " ['Mighty Protein', 'Coffee'],\n",
       " ['Hot chocolate', 'Muffin'],\n",
       " ['Coffee', 'Coffee', 'Soup', 'Mighty Protein'],\n",
       " ['Jam'],\n",
       " ['Coffee', 'Alfajores'],\n",
       " ['Cake', 'Hot chocolate', 'Alfajores'],\n",
       " ['Hot chocolate', 'Tea', 'Muffin'],\n",
       " ['Brownie'],\n",
       " ['Cake', 'Coffee'],\n",
       " ['Victorian Sponge', 'Alfajores', 'Tea'],\n",
       " ['Bread'],\n",
       " ['Tartine', 'Tea', 'Tartine'],\n",
       " ['Mighty Protein', 'Tea'],\n",
       " ['Bread', 'Fudge'],\n",
       " ['Medialuna', 'Tartine', 'Coffee'],\n",
       " ['Pastry', 'Bread'],\n",
       " ['Pastry', 'Bread'],\n",
       " ['Coffee', 'Tea', 'Alfajores', 'Alfajores'],\n",
       " ['Alfajores', 'Alfajores', 'Coffee'],\n",
       " ['Coffee', 'Alfajores'],\n",
       " ['Alfajores', 'Pastry'],\n",
       " ['Alfajores'],\n",
       " ['Pastry', 'Tea', 'Alfajores', 'Hearty & Seasonal'],\n",
       " ['Tea', 'Sandwich'],\n",
       " ['Empanadas', 'Tea'],\n",
       " ['Alfajores', 'Alfajores', 'Tea'],\n",
       " ['Alfajores'],\n",
       " ['Pastry', 'Dulce de Leche'],\n",
       " ['Coffee', 'Pastry'],\n",
       " ['Farm House', 'Coffee'],\n",
       " ['Bread', 'Scandinavian', 'Medialuna'],\n",
       " ['Bread'],\n",
       " ['Pastry', 'Tea', 'Alfajores'],\n",
       " ['Pastry', 'Coffee'],\n",
       " ['Bread', 'Pastry', 'Muffin', 'Farm House'],\n",
       " ['Medialuna', 'Tea'],\n",
       " ['Alfajores'],\n",
       " ['Sandwich', 'Tea'],\n",
       " ['Tea', 'Bread'],\n",
       " ['Bread', 'Coffee', 'Pastry'],\n",
       " ['Coffee', 'Coffee', 'Muffin', 'Alfajores', 'Empanadas'],\n",
       " ['Coffee'],\n",
       " ['Bread'],\n",
       " ['Coffee'],\n",
       " ['Coffee'],\n",
       " ['Bread'],\n",
       " ['Bread', 'Pastry', 'Medialuna', 'Tea'],\n",
       " ['Tea', 'Bread'],\n",
       " ['Muffin'],\n",
       " ['Coffee', 'Muffin'],\n",
       " ['Coffee', 'Bread', 'Pastry', 'Medialuna'],\n",
       " ['Coffee', 'Coffee', 'Muffin'],\n",
       " ['Muffin', 'Hot chocolate', 'Scandinavian', 'Bread'],\n",
       " ['Farm House'],\n",
       " ['Muffin'],\n",
       " ['Coffee'],\n",
       " ['Bread'],\n",
       " ['Coffee', 'Coffee', 'Cookies'],\n",
       " ['Coffee', 'Coffee'],\n",
       " ['Muffin'],\n",
       " ['Coffee', 'Tea', 'Keeping It Local'],\n",
       " ['Coffee', 'Medialuna'],\n",
       " ['Bread'],\n",
       " ['Tartine', 'Scandinavian'],\n",
       " ['Coffee', 'Tea'],\n",
       " ['Bread'],\n",
       " ['Coffee', 'Coke'],\n",
       " ['Coffee', 'Muffin'],\n",
       " ['Coffee', 'Bread', 'Coffee', 'Medialuna', 'Muffin', 'Scandinavian'],\n",
       " ['Bread'],\n",
       " ['Coke'],\n",
       " ['Bread', 'Scandinavian'],\n",
       " ['Coffee'],\n",
       " ['Bread'],\n",
       " ['Scandinavian', 'Bread'],\n",
       " ['Fudge', 'Fudge'],\n",
       " ['Soup', 'Hearty & Seasonal', 'Coffee'],\n",
       " ['Coke', 'Coffee', 'Cookies', 'Tea'],\n",
       " ['Pastry', 'Tea', 'Coffee'],\n",
       " ['Bread'],\n",
       " ['Coffee', 'Medialuna'],\n",
       " ['Coffee', 'Coffee', 'Muffin', 'Sandwich', 'Soup'],\n",
       " ['Tea', 'Coffee', 'Muffin'],\n",
       " ['Alfajores'],\n",
       " ['Bread'],\n",
       " ['Coffee', 'Medialuna'],\n",
       " ['Coffee'],\n",
       " ['Coffee'],\n",
       " ['Medialuna'],\n",
       " ['Empanadas', 'Bread', 'Scandinavian'],\n",
       " ['Coffee', 'Tartine'],\n",
       " ['Tea'],\n",
       " ['Scandinavian'],\n",
       " ['Muffin'],\n",
       " ['Scandinavian', 'Bread'],\n",
       " ['Bread'],\n",
       " ['Coffee'],\n",
       " ['Bread'],\n",
       " ['Bread'],\n",
       " ['Coffee', 'Coffee'],\n",
       " ['Cookies', 'Scandinavian'],\n",
       " ['Coffee', 'Bread', 'Empanadas', 'Medialuna'],\n",
       " ['Coffee', 'Pastry'],\n",
       " ['Bread'],\n",
       " ['Pastry', 'Tea'],\n",
       " ['Coffee', 'Coffee', 'Pastry'],\n",
       " ['Coffee', 'Bread'],\n",
       " ['Coffee', 'Keeping It Local'],\n",
       " ['Fudge', 'Tartine', 'Coffee', 'Coffee'],\n",
       " ['Hot chocolate', 'Coffee', 'Pastry', 'Medialuna'],\n",
       " ['Alfajores', 'Coffee'],\n",
       " ['Coffee'],\n",
       " ['Coffee', 'Coffee', 'Medialuna'],\n",
       " ['Coke'],\n",
       " ['Coffee', 'Coffee', 'Alfajores'],\n",
       " ['Muffin'],\n",
       " ['Farm House', 'Brownie', 'Fudge'],\n",
       " ['Coffee', 'Coffee'],\n",
       " ['Tea', 'Muffin', 'Farm House'],\n",
       " ['Coffee', 'Pastry'],\n",
       " ['Pastry', 'Brownie'],\n",
       " ['Medialuna'],\n",
       " ['Coffee'],\n",
       " ['Pastry', 'Coffee', 'Juice'],\n",
       " ['Coffee', 'Bread'],\n",
       " ['Tea', 'Coffee'],\n",
       " ['Tea', 'Alfajores'],\n",
       " ['Alfajores', 'Coffee'],\n",
       " ['Scandinavian'],\n",
       " ['Pastry', 'Medialuna'],\n",
       " ['Brownie'],\n",
       " ['Farm House'],\n",
       " ['Coffee', 'Cookies'],\n",
       " ['Soup'],\n",
       " ['Art Tray', 'Coffee', 'Coffee', 'Brownie'],\n",
       " ['Coffee'],\n",
       " ['Farm House'],\n",
       " ['Soup', 'Art Tray', 'Alfajores', 'Frittata'],\n",
       " ['Sandwich', 'Coffee'],\n",
       " ['Tea'],\n",
       " ['Farm House'],\n",
       " ['Scandinavian', 'Muffin'],\n",
       " ['Farm House'],\n",
       " ['Scandinavian'],\n",
       " ['Soup'],\n",
       " ['Hearty & Seasonal', 'Tea', 'Bread'],\n",
       " ['Hot chocolate'],\n",
       " ['Coffee', 'Sandwich', 'Hearty & Seasonal'],\n",
       " ['Brownie', 'Hearty & Seasonal', 'Sandwich', 'Coffee'],\n",
       " ['Medialuna', 'Coffee'],\n",
       " ['Coffee', 'Brownie', 'Soup'],\n",
       " ['Sandwich', 'Sandwich', 'Alfajores', 'Alfajores', 'Focaccia'],\n",
       " ['Farm House', 'Tartine'],\n",
       " ['Bread'],\n",
       " ['Coffee'],\n",
       " ['Hot chocolate', 'Tea', 'Muffin'],\n",
       " ['Pastry'],\n",
       " ['Coffee', 'Brownie', 'Hearty & Seasonal', 'Soup', 'Bowl Nic Pitt'],\n",
       " ['Coffee'],\n",
       " ['Alfajores', 'Medialuna', 'Scandinavian', 'Farm House'],\n",
       " ['Soup', 'Coffee'],\n",
       " ['Tea', 'Tea'],\n",
       " ['Coffee', 'Tea', 'Cookies'],\n",
       " ['Tea', 'Muffin'],\n",
       " ['Coffee', 'Coffee', 'Brownie'],\n",
       " ['Coffee'],\n",
       " ['Coffee'],\n",
       " ['Coffee'],\n",
       " ['Farm House'],\n",
       " ['Coffee', 'Bread Pudding'],\n",
       " ['Coffee', 'Medialuna'],\n",
       " ['Hot chocolate'],\n",
       " ['Coffee', 'Hot chocolate', 'Farm House'],\n",
       " ['Pastry', 'Coffee'],\n",
       " ['Bread'],\n",
       " ['Pastry', 'Coffee'],\n",
       " ['Coffee', 'Coffee'],\n",
       " ['Coffee', 'Pastry'],\n",
       " ['Farm House'],\n",
       " ['Bread'],\n",
       " ['Coffee', 'Hot chocolate'],\n",
       " ['Bread'],\n",
       " ['Coffee', 'Focaccia', 'Coffee', 'Medialuna', 'Bread'],\n",
       " ['Coffee'],\n",
       " ['Bread', 'Keeping It Local'],\n",
       " ['Bread', 'Coffee'],\n",
       " ['Bread'],\n",
       " ['Bread', 'Medialuna'],\n",
       " ['Coffee'],\n",
       " ['Coffee', 'Coffee', 'Medialuna'],\n",
       " ['Coffee', 'Cookies', 'Tartine'],\n",
       " ['Tea', 'Bread'],\n",
       " ['Bread', 'Keeping It Local', 'Coffee'],\n",
       " ['Coffee', 'Medialuna'],\n",
       " ['Coffee', 'Medialuna'],\n",
       " ['Tea'],\n",
       " ['Juice', 'Coke', 'Soup'],\n",
       " ['Bread'],\n",
       " ['Brownie'],\n",
       " ['Brownie', 'Bread', 'Coffee'],\n",
       " ['Coffee', 'Pastry', 'Bread', 'Hearty & Seasonal'],\n",
       " ['Bread', 'Coffee', 'Brownie'],\n",
       " ['Coffee'],\n",
       " ['Bread', 'Cookies'],\n",
       " ['Fudge', 'Eggs'],\n",
       " ['Bread'],\n",
       " ['Bread', 'Muffin'],\n",
       " ['Soup'],\n",
       " ['Coffee', 'Bread Pudding'],\n",
       " ['Bread', 'Tartine'],\n",
       " ['Sandwich', 'Coffee', 'Fudge', 'Jam', 'Bread Pudding'],\n",
       " ['Bread Pudding', 'Soup', 'Coffee'],\n",
       " ['Hearty & Seasonal', 'Bread'],\n",
       " ['Coffee', 'Coffee', 'Cookies'],\n",
       " ['Coffee'],\n",
       " ['Bread'],\n",
       " ['Coffee', 'Bread', 'Soup'],\n",
       " ['Soup', 'Tea', 'Focaccia'],\n",
       " ['Coffee', 'My-5 Fruit Shoot', 'Cookies'],\n",
       " ['Coffee', 'Coffee'],\n",
       " ['Coffee', 'Sandwich', 'Tea'],\n",
       " ['Scandinavian'],\n",
       " ['Adjustment'],\n",
       " ['Coffee'],\n",
       " ['Medialuna', 'Coffee'],\n",
       " ['Bread'],\n",
       " ['Bread'],\n",
       " ['Coffee', 'Pastry'],\n",
       " ['Farm House'],\n",
       " ['Medialuna', 'Brownie'],\n",
       " ['Bread', 'Pastry', 'Brownie'],\n",
       " ['Pastry', 'Bread', 'Cookies'],\n",
       " ['Bread', 'Bread'],\n",
       " ['Cookies', 'Pastry', 'Coffee', 'Juice'],\n",
       " ['Pastry', 'Cookies', 'Coffee'],\n",
       " ['Coffee', 'Medialuna'],\n",
       " ['Bread'],\n",
       " ['Tartine', 'Coffee'],\n",
       " ['Coffee', 'Medialuna'],\n",
       " ['Bread'],\n",
       " ['Bread', 'Coffee', 'Alfajores', 'Cookies'],\n",
       " ['Bread', 'Coffee', 'Coffee'],\n",
       " ['Bread'],\n",
       " ['Bread', 'Coffee', 'Tea', 'Keeping It Local', 'Jam', 'Cookies'],\n",
       " ['Pastry', 'Coffee', 'Juice'],\n",
       " ['Medialuna', 'Bread', 'Focaccia'],\n",
       " ['Pastry', 'Medialuna', 'Coffee'],\n",
       " ['Coffee'],\n",
       " ['Coffee'],\n",
       " ['Coffee', 'Cookies', 'Truffles', 'Brownie', 'Bread'],\n",
       " ['Art Tray', 'Tea'],\n",
       " ['Bread'],\n",
       " ['Coffee'],\n",
       " ['Coffee', 'Cookies'],\n",
       " ['Brownie'],\n",
       " ['Bread', 'Tea', 'Empanadas'],\n",
       " ['Bread', 'Hot chocolate'],\n",
       " ['Coffee', 'Cookies'],\n",
       " ['Bread'],\n",
       " ['Tartine', 'Sandwich', 'Tea', 'Bread'],\n",
       " ['Soup', 'Sandwich', 'Bread'],\n",
       " ['Soup', 'Bread'],\n",
       " ['Fudge'],\n",
       " ['Coffee'],\n",
       " ['Coffee', 'Empanadas', 'Soup'],\n",
       " ['Bread', 'Coffee', 'Brownie'],\n",
       " ['Coffee', 'Smoothies', 'Juice', 'Soup', 'Hearty & Seasonal'],\n",
       " ['Alfajores',\n",
       "  'Sandwich',\n",
       "  'Hot chocolate',\n",
       "  'Coffee',\n",
       "  'Scandinavian',\n",
       "  'Cookies'],\n",
       " ['Tea', 'Coffee'],\n",
       " ['Bread', 'Cookies'],\n",
       " ['Alfajores', 'Cookies', 'Bread', 'Bread'],\n",
       " ['Tea', 'Brownie'],\n",
       " ['Tea', 'Bread'],\n",
       " ['Coffee', 'Alfajores'],\n",
       " ['Bread'],\n",
       " ['Empanadas', 'Coffee'],\n",
       " ['Bread'],\n",
       " ['Coffee', 'Hot chocolate'],\n",
       " ['Coffee'],\n",
       " ['Coffee', 'Brownie'],\n",
       " ['Tea', 'Hot chocolate', 'Brownie', 'Truffles'],\n",
       " ['Coffee', 'Keeping It Local'],\n",
       " ['Coffee'],\n",
       " ['Alfajores'],\n",
       " ['Scandinavian', 'Chimichurri Oil'],\n",
       " ['Bread', 'Truffles'],\n",
       " ['Brownie', 'Focaccia'],\n",
       " ['Coffee', 'Bread'],\n",
       " ['Coffee', 'Tea', 'Art Tray', 'Cookies'],\n",
       " ['Coffee'],\n",
       " ['Bread'],\n",
       " ['Coffee', 'Alfajores', 'Alfajores', 'Coke'],\n",
       " ['Bread'],\n",
       " ['Bread'],\n",
       " ['Bread', 'Pastry', 'Medialuna', 'Coffee'],\n",
       " ['Coffee'],\n",
       " ['Bread', 'Keeping It Local'],\n",
       " ['Bread'],\n",
       " ['Coffee', 'Scandinavian'],\n",
       " ['Bread', 'Farm House', 'Pastry', 'Medialuna'],\n",
       " ['Medialuna'],\n",
       " ['Coffee'],\n",
       " ['Bread', 'Farm House'],\n",
       " ['Bread'],\n",
       " ['Keeping It Local', 'Bread'],\n",
       " ['Bread', 'Medialuna'],\n",
       " ['Tea'],\n",
       " ['Coffee', 'Coffee', 'Pastry', 'Keeping It Local'],\n",
       " ['Coffee'],\n",
       " ['Tea'],\n",
       " ['Hot chocolate'],\n",
       " ['Tea', 'Sandwich'],\n",
       " ['Bread'],\n",
       " ['Medialuna', 'Muffin', 'Brownie'],\n",
       " ['Coffee', 'Muffin'],\n",
       " ['Bread'],\n",
       " ['Coffee', 'Medialuna'],\n",
       " ['Coffee'],\n",
       " ['Coffee', 'Medialuna'],\n",
       " ['Coffee'],\n",
       " ['Coffee', 'Hot chocolate', 'Brownie', 'Bread'],\n",
       " ['Bread', 'Bread', 'Bread'],\n",
       " ['Coffee', 'Brownie'],\n",
       " [\"Ella's Kitchen Pouches\", 'Coffee', 'Coffee', 'Medialuna', 'Pastry'],\n",
       " ['Jam'],\n",
       " ['Bread'],\n",
       " [\"Ella's Kitchen Pouches\"],\n",
       " ['Coffee', 'Coffee', 'Muffin'],\n",
       " ['Tea', 'Coffee', 'Truffles'],\n",
       " ...]"
      ]
     },
     "execution_count": 3,
     "metadata": {},
     "output_type": "execute_result"
    }
   ],
   "source": [
    "transactions = []\n",
    "temp_row = []\n",
    "flag = False\n",
    "n = 1\n",
    "for i in range(dataset.shape[0]):\n",
    "    row = dataset.iloc[i].dropna().tolist()\n",
    "    if row[2] == n and row[3] != 'NONE':\n",
    "        temp_row.append(row[3])\n",
    "        flag = True\n",
    "    elif row[3] != 'NONE':\n",
    "        transactions.append(temp_row.copy())\n",
    "        temp_row.clear()\n",
    "        temp_row.append(row[3])\n",
    "        flag = False\n",
    "        n = int(row[2])\n",
    "    else:\n",
    "        n = int(row[2])\n",
    "\n",
    "if flag == False:\n",
    "    transactions.append(temp_row)\n",
    "\n",
    "count = 0\n",
    "for i in transactions:\n",
    "    count += 1\n",
    "\n",
    "transactions"
   ]
  },
  {
   "cell_type": "markdown",
   "metadata": {},
   "source": [
    "#### Использование **apriori_python** для построения ассоциативных правил\n",
    "\n",
    "Выполнены следующие действия:\n",
    "\n",
    "* Пстроение списка ассоциативных правил методом **apriori_python**:\n",
    "    * **'minSup'** – минимальная поддержка, то есть ```число транзакций, содержащих A и B / общее число транзакций```\n",
    "    * **'minConf'** – минимальная достоверность, то есть ```число транзакций, содержащих A и B / число транзакций, содержащих только A```\n",
    "* Оценка времени, потраченного на выполнение метода"
   ]
  },
  {
   "cell_type": "code",
   "execution_count": 4,
   "metadata": {},
   "outputs": [
    {
     "data": {
      "text/plain": [
       "[[{'Toast'}, {'Coffee'}, 0.7044025157232704]]"
      ]
     },
     "execution_count": 4,
     "metadata": {},
     "output_type": "execute_result"
    }
   ],
   "source": [
    "t1 = []  # Хранение затраченного времени\n",
    "\n",
    "start = time.perf_counter()\n",
    "freqItemSetAp1, rules1 = apr(transactions, minSup=0.01, minConf=0.6)  # Достовренось 60%\n",
    "t1.append(time.perf_counter()-start)\n",
    "rules1"
   ]
  },
  {
   "cell_type": "code",
   "execution_count": 5,
   "metadata": {},
   "outputs": [
    {
     "data": {
      "text/plain": [
       "[[{'Toast'}, {'Coffee'}, 0.7044025157232704]]"
      ]
     },
     "execution_count": 5,
     "metadata": {},
     "output_type": "execute_result"
    }
   ],
   "source": [
    "t2 = []  # Хранение затраченного времени\n",
    "\n",
    "start = time.perf_counter()\n",
    "freqItemSetAp2, rules2 = apr(transactions, minSup=0.01, minConf=0.7) # Достовренось 80%\n",
    "t2.append(time.perf_counter()-start)\n",
    "rules2"
   ]
  },
  {
   "cell_type": "markdown",
   "metadata": {},
   "source": [
    "#### Использование **efficient-apriori** для построения ассоциативных правил\n",
    "\n",
    "Выполнены следующие действия:\n",
    "\n",
    "* Пстроение списка ассоциативных правил методом **efficient-apriori**\n",
    "* Оценка времени, потраченного на выполнение метода"
   ]
  },
  {
   "cell_type": "code",
   "execution_count": 6,
   "metadata": {},
   "outputs": [
    {
     "name": "stdout",
     "output_type": "stream",
     "text": [
      "{Toast} -> {Coffee} (conf: 0.704, supp: 0.024, lift: 1.452, conv: 1.742)\n"
     ]
    }
   ],
   "source": [
    "start = time.perf_counter()\n",
    "freqItemSetApEf1, rules_ap_ef1 = eff_apr(transactions, min_support=0.01, min_confidence=0.6)  # Достоверность 60%\n",
    "t1.append(time.perf_counter()-start)\n",
    "for i in rules_ap_ef1:\n",
    "    print(i)"
   ]
  },
  {
   "cell_type": "code",
   "execution_count": 7,
   "metadata": {},
   "outputs": [
    {
     "name": "stdout",
     "output_type": "stream",
     "text": [
      "{Toast} -> {Coffee} (conf: 0.704, supp: 0.024, lift: 1.452, conv: 1.742)\n"
     ]
    }
   ],
   "source": [
    "start = time.perf_counter()\n",
    "freqItemSetApEf2, rules_ap_ef2 = eff_apr(transactions, min_support=0.01, min_confidence=0.7)  # Достоверность 80%\n",
    "t2.append(time.perf_counter()-start)\n",
    "for i in rules_ap_ef2:\n",
    "    print(i)"
   ]
  },
  {
   "cell_type": "markdown",
   "metadata": {},
   "source": [
    "#### Использование **FPGrowth** для построения ассоциативных правил\n",
    "\n",
    "Выполнены следующие действия:\n",
    "\n",
    "* Пстроение списка ассоциативных правил методом **FPGrowth**\n",
    "* Оценка времени, потраченного на выполнение метода"
   ]
  },
  {
   "cell_type": "code",
   "execution_count": 8,
   "metadata": {},
   "outputs": [
    {
     "name": "stdout",
     "output_type": "stream",
     "text": [
      "[{'Toast'}, {'Coffee'}, 0.7044025157232704]\n",
      "[{'Toast'}, {'Coffee'}, 0.7044025157232704]\n"
     ]
    }
   ],
   "source": [
    "start = time.perf_counter()\n",
    "freqItemSetFP1, rules_fp1 = fpgrowth(transactions, minSupRatio=0.01, minConf=0.6)  # Достоверность 60% \n",
    "t1.append(time.perf_counter()-start)\n",
    "for i in rules_fp1:\n",
    "    print(i)"
   ]
  },
  {
   "cell_type": "code",
   "execution_count": 9,
   "metadata": {},
   "outputs": [
    {
     "name": "stdout",
     "output_type": "stream",
     "text": [
      "[{'Toast'}, {'Coffee'}, 0.7044025157232704]\n",
      "[{'Toast'}, {'Coffee'}, 0.7044025157232704]\n"
     ]
    }
   ],
   "source": [
    "start = time.perf_counter()\n",
    "freqItemSetFP2, rules_fp2 = fpgrowth(transactions, minSupRatio=0.01, minConf=0.7)  # Достоверность 80%\n",
    "t2.append(time.perf_counter()-start)\n",
    "for i in rules_fp2:\n",
    "    print(i)"
   ]
  },
  {
   "cell_type": "markdown",
   "metadata": {},
   "source": [
    "#### Визуализация полученных данных\n",
    "\n",
    "Выполнены следующие действия:\n",
    "\n",
    "* Сравнение времени выполнения всех алгоритмов и построение гистограммы\n",
    "* Построение диаграмм ассоциативных правил:\n",
    "    * Для метода **efficient_apriori**\n",
    "    * Для метода **fpgrowth**"
   ]
  },
  {
   "cell_type": "code",
   "execution_count": 10,
   "metadata": {},
   "outputs": [
    {
     "name": "stdout",
     "output_type": "stream",
     "text": [
      "Время выполнения apriori:  1.161149900000055 \n",
      "\n",
      "Время выполнения efficient_apriori:  0.015361199999915698 \n",
      "\n",
      "Время выполнения fpgrowth:  1.1607623999999532 \n",
      "\n"
     ]
    },
    {
     "data": {
      "image/png": "[encoded data removed]",
      "text/plain": [
       "<Figure size 640x480 with 1 Axes>"
      ]
     },
     "metadata": {},
     "output_type": "display_data"
    }
   ],
   "source": [
    "print('Время выполнения apriori: ', t1[0], '\\n')\n",
    "print('Время выполнения efficient_apriori: ', t1[1], '\\n')\n",
    "print('Время выполнения fpgrowth: ', t1[2], '\\n')\n",
    "plt.bar(['apriori', 'efficient_apriori', 'fpgrowth'], t1)\n",
    "plt.show()"
   ]
  },
  {
   "cell_type": "code",
   "execution_count": 11,
   "metadata": {},
   "outputs": [
    {
     "name": "stdout",
     "output_type": "stream",
     "text": [
      "Время выполнения apriori:  1.3006927000000132 \n",
      "\n",
      "Время выполнения efficient_apriori:  0.01377629999990404 \n",
      "\n",
      "Время выполнения fpgrowth:  0.7855569000000742 \n",
      "\n"
     ]
    },
    {
     "data": {
      "image/png": "[encoded data removed]",
      "text/plain": [
       "<Figure size 640x480 with 1 Axes>"
      ]
     },
     "metadata": {},
     "output_type": "display_data"
    }
   ],
   "source": [
    "print('Время выполнения apriori: ', t2[0], '\\n')\n",
    "print('Время выполнения efficient_apriori: ', t2[1], '\\n')\n",
    "print('Время выполнения fpgrowth: ', t2[2], '\\n')\n",
    "plt.bar(['apriori', 'efficient_apriori', 'fpgrowth'], t2)\n",
    "plt.show()"
   ]
  },
  {
   "cell_type": "code",
   "execution_count": 12,
   "metadata": {},
   "outputs": [
    {
     "data": {
      "application/vnd.plotly.v1+json": {
       "config": {
        "plotlyServerURL": "https://plot.ly"
       },
       "data": [
        {
         "dimensions": [
          {
           "label": "Antacedent 1",
           "range": [
            0,
            2
           ],
           "ticktext": [
            "Coffee",
            "Toast"
           ],
           "tickvals": [
            0,
            1
           ],
           "values": [
            1
           ]
          },
          {
           "label": "Consequent",
           "range": [
            0,
            2
           ],
           "ticktext": [
            "Coffee",
            "Toast"
           ],
           "tickvals": [
            0,
            1
           ],
           "values": [
            0
           ]
          }
         ],
         "line": {
          "color": [
           0.7
          ],
          "colorscale": [
           [
            0,
            "white"
           ],
           [
            1,
            "red"
           ]
          ]
         },
         "type": "parcoords"
        }
       ],
       "layout": {
        "paper_bgcolor": "white",
        "plot_bgcolor": "white",
        "template": {
         "data": {
          "bar": [
           {
            "error_x": {
             "color": "#2a3f5f"
            },
            "error_y": {
             "color": "#2a3f5f"
            },
            "marker": {
             "line": {
              "color": "#E5ECF6",
              "width": 0.5
             },
             "pattern": {
              "fillmode": "overlay",
              "size": 10,
              "solidity": 0.2
             }
            },
            "type": "bar"
           }
          ],
          "barpolar": [
           {
            "marker": {
             "line": {
              "color": "#E5ECF6",
              "width": 0.5
             },
             "pattern": {
              "fillmode": "overlay",
              "size": 10,
              "solidity": 0.2
             }
            },
            "type": "barpolar"
           }
          ],
          "carpet": [
           {
            "aaxis": {
             "endlinecolor": "#2a3f5f",
             "gridcolor": "white",
             "linecolor": "white",
             "minorgridcolor": "white",
             "startlinecolor": "#2a3f5f"
            },
            "baxis": {
             "endlinecolor": "#2a3f5f",
             "gridcolor": "white",
             "linecolor": "white",
             "minorgridcolor": "white",
             "startlinecolor": "#2a3f5f"
            },
            "type": "carpet"
           }
          ],
          "choropleth": [
           {
            "colorbar": {
             "outlinewidth": 0,
             "ticks": ""
            },
            "type": "choropleth"
           }
          ],
          "contour": [
           {
            "colorbar": {
             "outlinewidth": 0,
             "ticks": ""
            },
            "colorscale": [
             [
              0,
              "#0d0887"
             ],
             [
              0.1111111111111111,
              "#46039f"
             ],
             [
              0.2222222222222222,
              "#7201a8"
             ],
             [
              0.3333333333333333,
              "#9c179e"
             ],
             [
              0.4444444444444444,
              "#bd3786"
             ],
             [
              0.5555555555555556,
              "#d8576b"
             ],
             [
              0.6666666666666666,
              "#ed7953"
             ],
             [
              0.7777777777777778,
              "#fb9f3a"
             ],
             [
              0.8888888888888888,
              "#fdca26"
             ],
             [
              1,
              "#f0f921"
             ]
            ],
            "type": "contour"
           }
          ],
          "contourcarpet": [
           {
            "colorbar": {
             "outlinewidth": 0,
             "ticks": ""
            },
            "type": "contourcarpet"
           }
          ],
          "heatmap": [
           {
            "colorbar": {
             "outlinewidth": 0,
             "ticks": ""
            },
            "colorscale": [
             [
              0,
              "#0d0887"
             ],
             [
              0.1111111111111111,
              "#46039f"
             ],
             [
              0.2222222222222222,
              "#7201a8"
             ],
             [
              0.3333333333333333,
              "#9c179e"
             ],
             [
              0.4444444444444444,
              "#bd3786"
             ],
             [
              0.5555555555555556,
              "#d8576b"
             ],
             [
              0.6666666666666666,
              "#ed7953"
             ],
             [
              0.7777777777777778,
              "#fb9f3a"
             ],
             [
              0.8888888888888888,
              "#fdca26"
             ],
             [
              1,
              "#f0f921"
             ]
            ],
            "type": "heatmap"
           }
          ],
          "heatmapgl": [
           {
            "colorbar": {
             "outlinewidth": 0,
             "ticks": ""
            },
            "colorscale": [
             [
              0,
              "#0d0887"
             ],
             [
              0.1111111111111111,
              "#46039f"
             ],
             [
              0.2222222222222222,
              "#7201a8"
             ],
             [
              0.3333333333333333,
              "#9c179e"
             ],
             [
              0.4444444444444444,
              "#bd3786"
             ],
             [
              0.5555555555555556,
              "#d8576b"
             ],
             [
              0.6666666666666666,
              "#ed7953"
             ],
             [
              0.7777777777777778,
              "#fb9f3a"
             ],
             [
              0.8888888888888888,
              "#fdca26"
             ],
             [
              1,
              "#f0f921"
             ]
            ],
            "type": "heatmapgl"
           }
          ],
          "histogram": [
           {
            "marker": {
             "pattern": {
              "fillmode": "overlay",
              "size": 10,
              "solidity": 0.2
             }
            },
            "type": "histogram"
           }
          ],
          "histogram2d": [
           {
            "colorbar": {
             "outlinewidth": 0,
             "ticks": ""
            },
            "colorscale": [
             [
              0,
              "#0d0887"
             ],
             [
              0.1111111111111111,
              "#46039f"
             ],
             [
              0.2222222222222222,
              "#7201a8"
             ],
             [
              0.3333333333333333,
              "#9c179e"
             ],
             [
              0.4444444444444444,
              "#bd3786"
             ],
             [
              0.5555555555555556,
              "#d8576b"
             ],
             [
              0.6666666666666666,
              "#ed7953"
             ],
             [
              0.7777777777777778,
              "#fb9f3a"
             ],
             [
              0.8888888888888888,
              "#fdca26"
             ],
             [
              1,
              "#f0f921"
             ]
            ],
            "type": "histogram2d"
           }
          ],
          "histogram2dcontour": [
           {
            "colorbar": {
             "outlinewidth": 0,
             "ticks": ""
            },
            "colorscale": [
             [
              0,
              "#0d0887"
             ],
             [
              0.1111111111111111,
              "#46039f"
             ],
             [
              0.2222222222222222,
              "#7201a8"
             ],
             [
              0.3333333333333333,
              "#9c179e"
             ],
             [
              0.4444444444444444,
              "#bd3786"
             ],
             [
              0.5555555555555556,
              "#d8576b"
             ],
             [
              0.6666666666666666,
              "#ed7953"
             ],
             [
              0.7777777777777778,
              "#fb9f3a"
             ],
             [
              0.8888888888888888,
              "#fdca26"
             ],
             [
              1,
              "#f0f921"
             ]
            ],
            "type": "histogram2dcontour"
           }
          ],
          "mesh3d": [
           {
            "colorbar": {
             "outlinewidth": 0,
             "ticks": ""
            },
            "type": "mesh3d"
           }
          ],
          "parcoords": [
           {
            "line": {
             "colorbar": {
              "outlinewidth": 0,
              "ticks": ""
             }
            },
            "type": "parcoords"
           }
          ],
          "pie": [
           {
            "automargin": true,
            "type": "pie"
           }
          ],
          "scatter": [
           {
            "fillpattern": {
             "fillmode": "overlay",
             "size": 10,
             "solidity": 0.2
            },
            "type": "scatter"
           }
          ],
          "scatter3d": [
           {
            "line": {
             "colorbar": {
              "outlinewidth": 0,
              "ticks": ""
             }
            },
            "marker": {
             "colorbar": {
              "outlinewidth": 0,
              "ticks": ""
             }
            },
            "type": "scatter3d"
           }
          ],
          "scattercarpet": [
           {
            "marker": {
             "colorbar": {
              "outlinewidth": 0,
              "ticks": ""
             }
            },
            "type": "scattercarpet"
           }
          ],
          "scattergeo": [
           {
            "marker": {
             "colorbar": {
              "outlinewidth": 0,
              "ticks": ""
             }
            },
            "type": "scattergeo"
           }
          ],
          "scattergl": [
           {
            "marker": {
             "colorbar": {
              "outlinewidth": 0,
              "ticks": ""
             }
            },
            "type": "scattergl"
           }
          ],
          "scattermapbox": [
           {
            "marker": {
             "colorbar": {
              "outlinewidth": 0,
              "ticks": ""
             }
            },
            "type": "scattermapbox"
           }
          ],
          "scatterpolar": [
           {
            "marker": {
             "colorbar": {
              "outlinewidth": 0,
              "ticks": ""
             }
            },
            "type": "scatterpolar"
           }
          ],
          "scatterpolargl": [
           {
            "marker": {
             "colorbar": {
              "outlinewidth": 0,
              "ticks": ""
             }
            },
            "type": "scatterpolargl"
           }
          ],
          "scatterternary": [
           {
            "marker": {
             "colorbar": {
              "outlinewidth": 0,
              "ticks": ""
             }
            },
            "type": "scatterternary"
           }
          ],
          "surface": [
           {
            "colorbar": {
             "outlinewidth": 0,
             "ticks": ""
            },
            "colorscale": [
             [
              0,
              "#0d0887"
             ],
             [
              0.1111111111111111,
              "#46039f"
             ],
             [
              0.2222222222222222,
              "#7201a8"
             ],
             [
              0.3333333333333333,
              "#9c179e"
             ],
             [
              0.4444444444444444,
              "#bd3786"
             ],
             [
              0.5555555555555556,
              "#d8576b"
             ],
             [
              0.6666666666666666,
              "#ed7953"
             ],
             [
              0.7777777777777778,
              "#fb9f3a"
             ],
             [
              0.8888888888888888,
              "#fdca26"
             ],
             [
              1,
              "#f0f921"
             ]
            ],
            "type": "surface"
           }
          ],
          "table": [
           {
            "cells": {
             "fill": {
              "color": "#EBF0F8"
             },
             "line": {
              "color": "white"
             }
            },
            "header": {
             "fill": {
              "color": "#C8D4E3"
             },
             "line": {
              "color": "white"
             }
            },
            "type": "table"
           }
          ]
         },
         "layout": {
          "annotationdefaults": {
           "arrowcolor": "#2a3f5f",
           "arrowhead": 0,
           "arrowwidth": 1
          },
          "autotypenumbers": "strict",
          "coloraxis": {
           "colorbar": {
            "outlinewidth": 0,
            "ticks": ""
           }
          },
          "colorscale": {
           "diverging": [
            [
             0,
             "#8e0152"
            ],
            [
             0.1,
             "#c51b7d"
            ],
            [
             0.2,
             "#de77ae"
            ],
            [
             0.3,
             "#f1b6da"
            ],
            [
             0.4,
             "#fde0ef"
            ],
            [
             0.5,
             "#f7f7f7"
            ],
            [
             0.6,
             "#e6f5d0"
            ],
            [
             0.7,
             "#b8e186"
            ],
            [
             0.8,
             "#7fbc41"
            ],
            [
             0.9,
             "#4d9221"
            ],
            [
             1,
             "#276419"
            ]
           ],
           "sequential": [
            [
             0,
             "#0d0887"
            ],
            [
             0.1111111111111111,
             "#46039f"
            ],
            [
             0.2222222222222222,
             "#7201a8"
            ],
            [
             0.3333333333333333,
             "#9c179e"
            ],
            [
             0.4444444444444444,
             "#bd3786"
            ],
            [
             0.5555555555555556,
             "#d8576b"
            ],
            [
             0.6666666666666666,
             "#ed7953"
            ],
            [
             0.7777777777777778,
             "#fb9f3a"
            ],
            [
             0.8888888888888888,
             "#fdca26"
            ],
            [
             1,
             "#f0f921"
            ]
           ],
           "sequentialminus": [
            [
             0,
             "#0d0887"
            ],
            [
             0.1111111111111111,
             "#46039f"
            ],
            [
             0.2222222222222222,
             "#7201a8"
            ],
            [
             0.3333333333333333,
             "#9c179e"
            ],
            [
             0.4444444444444444,
             "#bd3786"
            ],
            [
             0.5555555555555556,
             "#d8576b"
            ],
            [
             0.6666666666666666,
             "#ed7953"
            ],
            [
             0.7777777777777778,
             "#fb9f3a"
            ],
            [
             0.8888888888888888,
             "#fdca26"
            ],
            [
             1,
             "#f0f921"
            ]
           ]
          },
          "colorway": [
           "#636efa",
           "#EF553B",
           "#00cc96",
           "#ab63fa",
           "#FFA15A",
           "#19d3f3",
           "#FF6692",
           "#B6E880",
           "#FF97FF",
           "#FECB52"
          ],
          "font": {
           "color": "#2a3f5f"
          },
          "geo": {
           "bgcolor": "white",
           "lakecolor": "white",
           "landcolor": "#E5ECF6",
           "showlakes": true,
           "showland": true,
           "subunitcolor": "white"
          },
          "hoverlabel": {
           "align": "left"
          },
          "hovermode": "closest",
          "mapbox": {
           "style": "light"
          },
          "paper_bgcolor": "white",
          "plot_bgcolor": "#E5ECF6",
          "polar": {
           "angularaxis": {
            "gridcolor": "white",
            "linecolor": "white",
            "ticks": ""
           },
           "bgcolor": "#E5ECF6",
           "radialaxis": {
            "gridcolor": "white",
            "linecolor": "white",
            "ticks": ""
           }
          },
          "scene": {
           "xaxis": {
            "backgroundcolor": "#E5ECF6",
            "gridcolor": "white",
            "gridwidth": 2,
            "linecolor": "white",
            "showbackground": true,
            "ticks": "",
            "zerolinecolor": "white"
           },
           "yaxis": {
            "backgroundcolor": "#E5ECF6",
            "gridcolor": "white",
            "gridwidth": 2,
            "linecolor": "white",
            "showbackground": true,
            "ticks": "",
            "zerolinecolor": "white"
           },
           "zaxis": {
            "backgroundcolor": "#E5ECF6",
            "gridcolor": "white",
            "gridwidth": 2,
            "linecolor": "white",
            "showbackground": true,
            "ticks": "",
            "zerolinecolor": "white"
           }
          },
          "shapedefaults": {
           "line": {
            "color": "#2a3f5f"
           }
          },
          "ternary": {
           "aaxis": {
            "gridcolor": "white",
            "linecolor": "white",
            "ticks": ""
           },
           "baxis": {
            "gridcolor": "white",
            "linecolor": "white",
            "ticks": ""
           },
           "bgcolor": "#E5ECF6",
           "caxis": {
            "gridcolor": "white",
            "linecolor": "white",
            "ticks": ""
           }
          },
          "title": {
           "x": 0.05
          },
          "xaxis": {
           "automargin": true,
           "gridcolor": "white",
           "linecolor": "white",
           "ticks": "",
           "title": {
            "standoff": 15
           },
           "zerolinecolor": "white",
           "zerolinewidth": 2
          },
          "yaxis": {
           "automargin": true,
           "gridcolor": "white",
           "linecolor": "white",
           "ticks": "",
           "title": {
            "standoff": 15
           },
           "zerolinecolor": "white",
           "zerolinewidth": 2
          }
         }
        }
       }
      }
     },
     "metadata": {},
     "output_type": "display_data"
    },
    {
     "data": {
      "application/vnd.plotly.v1+json": {
       "config": {
        "plotlyServerURL": "https://plot.ly"
       },
       "data": [
        {
         "marker": {
          "color": [
           1.4523372961889556
          ],
          "colorbar": {
           "title": {
            "text": "Lift"
           }
          },
          "colorscale": [
           [
            0,
            "rgb(243, 224, 247)"
           ],
           [
            0.16666666666666666,
            "rgb(228, 199, 241)"
           ],
           [
            0.3333333333333333,
            "rgb(209, 175, 232)"
           ],
           [
            0.5,
            "rgb(185, 152, 221)"
           ],
           [
            0.6666666666666666,
            "rgb(159, 130, 206)"
           ],
           [
            0.8333333333333334,
            "rgb(130, 109, 186)"
           ],
           [
            1,
            "rgb(99, 88, 159)"
           ]
          ]
         },
         "mode": "markers",
         "text": [
          "('Toast',) => ('Coffee',), Lift: 1.4523372961889556"
         ],
         "type": "scatter",
         "x": [
          0.02432667245873154
         ],
         "y": [
          0.7044025157232704
         ]
        }
       ],
       "layout": {
        "template": {
         "data": {
          "bar": [
           {
            "error_x": {
             "color": "#2a3f5f"
            },
            "error_y": {
             "color": "#2a3f5f"
            },
            "marker": {
             "line": {
              "color": "#E5ECF6",
              "width": 0.5
             },
             "pattern": {
              "fillmode": "overlay",
              "size": 10,
              "solidity": 0.2
             }
            },
            "type": "bar"
           }
          ],
          "barpolar": [
           {
            "marker": {
             "line": {
              "color": "#E5ECF6",
              "width": 0.5
             },
             "pattern": {
              "fillmode": "overlay",
              "size": 10,
              "solidity": 0.2
             }
            },
            "type": "barpolar"
           }
          ],
          "carpet": [
           {
            "aaxis": {
             "endlinecolor": "#2a3f5f",
             "gridcolor": "white",
             "linecolor": "white",
             "minorgridcolor": "white",
             "startlinecolor": "#2a3f5f"
            },
            "baxis": {
             "endlinecolor": "#2a3f5f",
             "gridcolor": "white",
             "linecolor": "white",
             "minorgridcolor": "white",
             "startlinecolor": "#2a3f5f"
            },
            "type": "carpet"
           }
          ],
          "choropleth": [
           {
            "colorbar": {
             "outlinewidth": 0,
             "ticks": ""
            },
            "type": "choropleth"
           }
          ],
          "contour": [
           {
            "colorbar": {
             "outlinewidth": 0,
             "ticks": ""
            },
            "colorscale": [
             [
              0,
              "#0d0887"
             ],
             [
              0.1111111111111111,
              "#46039f"
             ],
             [
              0.2222222222222222,
              "#7201a8"
             ],
             [
              0.3333333333333333,
              "#9c179e"
             ],
             [
              0.4444444444444444,
              "#bd3786"
             ],
             [
              0.5555555555555556,
              "#d8576b"
             ],
             [
              0.6666666666666666,
              "#ed7953"
             ],
             [
              0.7777777777777778,
              "#fb9f3a"
             ],
             [
              0.8888888888888888,
              "#fdca26"
             ],
             [
              1,
              "#f0f921"
             ]
            ],
            "type": "contour"
           }
          ],
          "contourcarpet": [
           {
            "colorbar": {
             "outlinewidth": 0,
             "ticks": ""
            },
            "type": "contourcarpet"
           }
          ],
          "heatmap": [
           {
            "colorbar": {
             "outlinewidth": 0,
             "ticks": ""
            },
            "colorscale": [
             [
              0,
              "#0d0887"
             ],
             [
              0.1111111111111111,
              "#46039f"
             ],
             [
              0.2222222222222222,
              "#7201a8"
             ],
             [
              0.3333333333333333,
              "#9c179e"
             ],
             [
              0.4444444444444444,
              "#bd3786"
             ],
             [
              0.5555555555555556,
              "#d8576b"
             ],
             [
              0.6666666666666666,
              "#ed7953"
             ],
             [
              0.7777777777777778,
              "#fb9f3a"
             ],
             [
              0.8888888888888888,
              "#fdca26"
             ],
             [
              1,
              "#f0f921"
             ]
            ],
            "type": "heatmap"
           }
          ],
          "heatmapgl": [
           {
            "colorbar": {
             "outlinewidth": 0,
             "ticks": ""
            },
            "colorscale": [
             [
              0,
              "#0d0887"
             ],
             [
              0.1111111111111111,
              "#46039f"
             ],
             [
              0.2222222222222222,
              "#7201a8"
             ],
             [
              0.3333333333333333,
              "#9c179e"
             ],
             [
              0.4444444444444444,
              "#bd3786"
             ],
             [
              0.5555555555555556,
              "#d8576b"
             ],
             [
              0.6666666666666666,
              "#ed7953"
             ],
             [
              0.7777777777777778,
              "#fb9f3a"
             ],
             [
              0.8888888888888888,
              "#fdca26"
             ],
             [
              1,
              "#f0f921"
             ]
            ],
            "type": "heatmapgl"
           }
          ],
          "histogram": [
           {
            "marker": {
             "pattern": {
              "fillmode": "overlay",
              "size": 10,
              "solidity": 0.2
             }
            },
            "type": "histogram"
           }
          ],
          "histogram2d": [
           {
            "colorbar": {
             "outlinewidth": 0,
             "ticks": ""
            },
            "colorscale": [
             [
              0,
              "#0d0887"
             ],
             [
              0.1111111111111111,
              "#46039f"
             ],
             [
              0.2222222222222222,
              "#7201a8"
             ],
             [
              0.3333333333333333,
              "#9c179e"
             ],
             [
              0.4444444444444444,
              "#bd3786"
             ],
             [
              0.5555555555555556,
              "#d8576b"
             ],
             [
              0.6666666666666666,
              "#ed7953"
             ],
             [
              0.7777777777777778,
              "#fb9f3a"
             ],
             [
              0.8888888888888888,
              "#fdca26"
             ],
             [
              1,
              "#f0f921"
             ]
            ],
            "type": "histogram2d"
           }
          ],
          "histogram2dcontour": [
           {
            "colorbar": {
             "outlinewidth": 0,
             "ticks": ""
            },
            "colorscale": [
             [
              0,
              "#0d0887"
             ],
             [
              0.1111111111111111,
              "#46039f"
             ],
             [
              0.2222222222222222,
              "#7201a8"
             ],
             [
              0.3333333333333333,
              "#9c179e"
             ],
             [
              0.4444444444444444,
              "#bd3786"
             ],
             [
              0.5555555555555556,
              "#d8576b"
             ],
             [
              0.6666666666666666,
              "#ed7953"
             ],
             [
              0.7777777777777778,
              "#fb9f3a"
             ],
             [
              0.8888888888888888,
              "#fdca26"
             ],
             [
              1,
              "#f0f921"
             ]
            ],
            "type": "histogram2dcontour"
           }
          ],
          "mesh3d": [
           {
            "colorbar": {
             "outlinewidth": 0,
             "ticks": ""
            },
            "type": "mesh3d"
           }
          ],
          "parcoords": [
           {
            "line": {
             "colorbar": {
              "outlinewidth": 0,
              "ticks": ""
             }
            },
            "type": "parcoords"
           }
          ],
          "pie": [
           {
            "automargin": true,
            "type": "pie"
           }
          ],
          "scatter": [
           {
            "fillpattern": {
             "fillmode": "overlay",
             "size": 10,
             "solidity": 0.2
            },
            "type": "scatter"
           }
          ],
          "scatter3d": [
           {
            "line": {
             "colorbar": {
              "outlinewidth": 0,
              "ticks": ""
             }
            },
            "marker": {
             "colorbar": {
              "outlinewidth": 0,
              "ticks": ""
             }
            },
            "type": "scatter3d"
           }
          ],
          "scattercarpet": [
           {
            "marker": {
             "colorbar": {
              "outlinewidth": 0,
              "ticks": ""
             }
            },
            "type": "scattercarpet"
           }
          ],
          "scattergeo": [
           {
            "marker": {
             "colorbar": {
              "outlinewidth": 0,
              "ticks": ""
             }
            },
            "type": "scattergeo"
           }
          ],
          "scattergl": [
           {
            "marker": {
             "colorbar": {
              "outlinewidth": 0,
              "ticks": ""
             }
            },
            "type": "scattergl"
           }
          ],
          "scattermapbox": [
           {
            "marker": {
             "colorbar": {
              "outlinewidth": 0,
              "ticks": ""
             }
            },
            "type": "scattermapbox"
           }
          ],
          "scatterpolar": [
           {
            "marker": {
             "colorbar": {
              "outlinewidth": 0,
              "ticks": ""
             }
            },
            "type": "scatterpolar"
           }
          ],
          "scatterpolargl": [
           {
            "marker": {
             "colorbar": {
              "outlinewidth": 0,
              "ticks": ""
             }
            },
            "type": "scatterpolargl"
           }
          ],
          "scatterternary": [
           {
            "marker": {
             "colorbar": {
              "outlinewidth": 0,
              "ticks": ""
             }
            },
            "type": "scatterternary"
           }
          ],
          "surface": [
           {
            "colorbar": {
             "outlinewidth": 0,
             "ticks": ""
            },
            "colorscale": [
             [
              0,
              "#0d0887"
             ],
             [
              0.1111111111111111,
              "#46039f"
             ],
             [
              0.2222222222222222,
              "#7201a8"
             ],
             [
              0.3333333333333333,
              "#9c179e"
             ],
             [
              0.4444444444444444,
              "#bd3786"
             ],
             [
              0.5555555555555556,
              "#d8576b"
             ],
             [
              0.6666666666666666,
              "#ed7953"
             ],
             [
              0.7777777777777778,
              "#fb9f3a"
             ],
             [
              0.8888888888888888,
              "#fdca26"
             ],
             [
              1,
              "#f0f921"
             ]
            ],
            "type": "surface"
           }
          ],
          "table": [
           {
            "cells": {
             "fill": {
              "color": "#EBF0F8"
             },
             "line": {
              "color": "white"
             }
            },
            "header": {
             "fill": {
              "color": "#C8D4E3"
             },
             "line": {
              "color": "white"
             }
            },
            "type": "table"
           }
          ]
         },
         "layout": {
          "annotationdefaults": {
           "arrowcolor": "#2a3f5f",
           "arrowhead": 0,
           "arrowwidth": 1
          },
          "autotypenumbers": "strict",
          "coloraxis": {
           "colorbar": {
            "outlinewidth": 0,
            "ticks": ""
           }
          },
          "colorscale": {
           "diverging": [
            [
             0,
             "#8e0152"
            ],
            [
             0.1,
             "#c51b7d"
            ],
            [
             0.2,
             "#de77ae"
            ],
            [
             0.3,
             "#f1b6da"
            ],
            [
             0.4,
             "#fde0ef"
            ],
            [
             0.5,
             "#f7f7f7"
            ],
            [
             0.6,
             "#e6f5d0"
            ],
            [
             0.7,
             "#b8e186"
            ],
            [
             0.8,
             "#7fbc41"
            ],
            [
             0.9,
             "#4d9221"
            ],
            [
             1,
             "#276419"
            ]
           ],
           "sequential": [
            [
             0,
             "#0d0887"
            ],
            [
             0.1111111111111111,
             "#46039f"
            ],
            [
             0.2222222222222222,
             "#7201a8"
            ],
            [
             0.3333333333333333,
             "#9c179e"
            ],
            [
             0.4444444444444444,
             "#bd3786"
            ],
            [
             0.5555555555555556,
             "#d8576b"
            ],
            [
             0.6666666666666666,
             "#ed7953"
            ],
            [
             0.7777777777777778,
             "#fb9f3a"
            ],
            [
             0.8888888888888888,
             "#fdca26"
            ],
            [
             1,
             "#f0f921"
            ]
           ],
           "sequentialminus": [
            [
             0,
             "#0d0887"
            ],
            [
             0.1111111111111111,
             "#46039f"
            ],
            [
             0.2222222222222222,
             "#7201a8"
            ],
            [
             0.3333333333333333,
             "#9c179e"
            ],
            [
             0.4444444444444444,
             "#bd3786"
            ],
            [
             0.5555555555555556,
             "#d8576b"
            ],
            [
             0.6666666666666666,
             "#ed7953"
            ],
            [
             0.7777777777777778,
             "#fb9f3a"
            ],
            [
             0.8888888888888888,
             "#fdca26"
            ],
            [
             1,
             "#f0f921"
            ]
           ]
          },
          "colorway": [
           "#636efa",
           "#EF553B",
           "#00cc96",
           "#ab63fa",
           "#FFA15A",
           "#19d3f3",
           "#FF6692",
           "#B6E880",
           "#FF97FF",
           "#FECB52"
          ],
          "font": {
           "color": "#2a3f5f"
          },
          "geo": {
           "bgcolor": "white",
           "lakecolor": "white",
           "landcolor": "#E5ECF6",
           "showlakes": true,
           "showland": true,
           "subunitcolor": "white"
          },
          "hoverlabel": {
           "align": "left"
          },
          "hovermode": "closest",
          "mapbox": {
           "style": "light"
          },
          "paper_bgcolor": "white",
          "plot_bgcolor": "#E5ECF6",
          "polar": {
           "angularaxis": {
            "gridcolor": "white",
            "linecolor": "white",
            "ticks": ""
           },
           "bgcolor": "#E5ECF6",
           "radialaxis": {
            "gridcolor": "white",
            "linecolor": "white",
            "ticks": ""
           }
          },
          "scene": {
           "xaxis": {
            "backgroundcolor": "#E5ECF6",
            "gridcolor": "white",
            "gridwidth": 2,
            "linecolor": "white",
            "showbackground": true,
            "ticks": "",
            "zerolinecolor": "white"
           },
           "yaxis": {
            "backgroundcolor": "#E5ECF6",
            "gridcolor": "white",
            "gridwidth": 2,
            "linecolor": "white",
            "showbackground": true,
            "ticks": "",
            "zerolinecolor": "white"
           },
           "zaxis": {
            "backgroundcolor": "#E5ECF6",
            "gridcolor": "white",
            "gridwidth": 2,
            "linecolor": "white",
            "showbackground": true,
            "ticks": "",
            "zerolinecolor": "white"
           }
          },
          "shapedefaults": {
           "line": {
            "color": "#2a3f5f"
           }
          },
          "ternary": {
           "aaxis": {
            "gridcolor": "white",
            "linecolor": "white",
            "ticks": ""
           },
           "baxis": {
            "gridcolor": "white",
            "linecolor": "white",
            "ticks": ""
           },
           "bgcolor": "#E5ECF6",
           "caxis": {
            "gridcolor": "white",
            "linecolor": "white",
            "ticks": ""
           }
          },
          "title": {
           "x": 0.05
          },
          "xaxis": {
           "automargin": true,
           "gridcolor": "white",
           "linecolor": "white",
           "ticks": "",
           "title": {
            "standoff": 15
           },
           "zerolinecolor": "white",
           "zerolinewidth": 2
          },
          "yaxis": {
           "automargin": true,
           "gridcolor": "white",
           "linecolor": "white",
           "ticks": "",
           "title": {
            "standoff": 15
           },
           "zerolinecolor": "white",
           "zerolinewidth": 2
          }
         }
        },
        "title": {
         "text": "Association Rules Strength Distribution"
        },
        "xaxis": {
         "autorange": "reversed",
         "title": {
          "text": "Support"
         }
        },
        "yaxis": {
         "title": {
          "text": "Confidence"
         }
        }
       }
      }
     },
     "metadata": {},
     "output_type": "display_data"
    },
    {
     "data": {
      "application/vnd.plotly.v1+json": {
       "config": {
        "plotlyServerURL": "https://plot.ly"
       },
       "data": [
        {
         "marker": {
          "color": [
           1.4523372961889556
          ],
          "colorbar": {
           "title": {
            "text": "Lift"
           }
          },
          "colorscale": [
           [
            0,
            "rgb(243, 224, 247)"
           ],
           [
            0.16666666666666666,
            "rgb(228, 199, 241)"
           ],
           [
            0.3333333333333333,
            "rgb(209, 175, 232)"
           ],
           [
            0.5,
            "rgb(185, 152, 221)"
           ],
           [
            0.6666666666666666,
            "rgb(159, 130, 206)"
           ],
           [
            0.8333333333333334,
            "rgb(130, 109, 186)"
           ],
           [
            1,
            "rgb(99, 88, 159)"
           ]
          ]
         },
         "mode": "markers",
         "text": [
          "('Toast',) => ('Coffee',), Lift: 1.4523372961889556"
         ],
         "type": "scatter",
         "x": [
          0.02432667245873154
         ],
         "y": [
          0.7044025157232704
         ]
        }
       ],
       "layout": {
        "template": {
         "data": {
          "bar": [
           {
            "error_x": {
             "color": "#2a3f5f"
            },
            "error_y": {
             "color": "#2a3f5f"
            },
            "marker": {
             "line": {
              "color": "#E5ECF6",
              "width": 0.5
             },
             "pattern": {
              "fillmode": "overlay",
              "size": 10,
              "solidity": 0.2
             }
            },
            "type": "bar"
           }
          ],
          "barpolar": [
           {
            "marker": {
             "line": {
              "color": "#E5ECF6",
              "width": 0.5
             },
             "pattern": {
              "fillmode": "overlay",
              "size": 10,
              "solidity": 0.2
             }
            },
            "type": "barpolar"
           }
          ],
          "carpet": [
           {
            "aaxis": {
             "endlinecolor": "#2a3f5f",
             "gridcolor": "white",
             "linecolor": "white",
             "minorgridcolor": "white",
             "startlinecolor": "#2a3f5f"
            },
            "baxis": {
             "endlinecolor": "#2a3f5f",
             "gridcolor": "white",
             "linecolor": "white",
             "minorgridcolor": "white",
             "startlinecolor": "#2a3f5f"
            },
            "type": "carpet"
           }
          ],
          "choropleth": [
           {
            "colorbar": {
             "outlinewidth": 0,
             "ticks": ""
            },
            "type": "choropleth"
           }
          ],
          "contour": [
           {
            "colorbar": {
             "outlinewidth": 0,
             "ticks": ""
            },
            "colorscale": [
             [
              0,
              "#0d0887"
             ],
             [
              0.1111111111111111,
              "#46039f"
             ],
             [
              0.2222222222222222,
              "#7201a8"
             ],
             [
              0.3333333333333333,
              "#9c179e"
             ],
             [
              0.4444444444444444,
              "#bd3786"
             ],
             [
              0.5555555555555556,
              "#d8576b"
             ],
             [
              0.6666666666666666,
              "#ed7953"
             ],
             [
              0.7777777777777778,
              "#fb9f3a"
             ],
             [
              0.8888888888888888,
              "#fdca26"
             ],
             [
              1,
              "#f0f921"
             ]
            ],
            "type": "contour"
           }
          ],
          "contourcarpet": [
           {
            "colorbar": {
             "outlinewidth": 0,
             "ticks": ""
            },
            "type": "contourcarpet"
           }
          ],
          "heatmap": [
           {
            "colorbar": {
             "outlinewidth": 0,
             "ticks": ""
            },
            "colorscale": [
             [
              0,
              "#0d0887"
             ],
             [
              0.1111111111111111,
              "#46039f"
             ],
             [
              0.2222222222222222,
              "#7201a8"
             ],
             [
              0.3333333333333333,
              "#9c179e"
             ],
             [
              0.4444444444444444,
              "#bd3786"
             ],
             [
              0.5555555555555556,
              "#d8576b"
             ],
             [
              0.6666666666666666,
              "#ed7953"
             ],
             [
              0.7777777777777778,
              "#fb9f3a"
             ],
             [
              0.8888888888888888,
              "#fdca26"
             ],
             [
              1,
              "#f0f921"
             ]
            ],
            "type": "heatmap"
           }
          ],
          "heatmapgl": [
           {
            "colorbar": {
             "outlinewidth": 0,
             "ticks": ""
            },
            "colorscale": [
             [
              0,
              "#0d0887"
             ],
             [
              0.1111111111111111,
              "#46039f"
             ],
             [
              0.2222222222222222,
              "#7201a8"
             ],
             [
              0.3333333333333333,
              "#9c179e"
             ],
             [
              0.4444444444444444,
              "#bd3786"
             ],
             [
              0.5555555555555556,
              "#d8576b"
             ],
             [
              0.6666666666666666,
              "#ed7953"
             ],
             [
              0.7777777777777778,
              "#fb9f3a"
             ],
             [
              0.8888888888888888,
              "#fdca26"
             ],
             [
              1,
              "#f0f921"
             ]
            ],
            "type": "heatmapgl"
           }
          ],
          "histogram": [
           {
            "marker": {
             "pattern": {
              "fillmode": "overlay",
              "size": 10,
              "solidity": 0.2
             }
            },
            "type": "histogram"
           }
          ],
          "histogram2d": [
           {
            "colorbar": {
             "outlinewidth": 0,
             "ticks": ""
            },
            "colorscale": [
             [
              0,
              "#0d0887"
             ],
             [
              0.1111111111111111,
              "#46039f"
             ],
             [
              0.2222222222222222,
              "#7201a8"
             ],
             [
              0.3333333333333333,
              "#9c179e"
             ],
             [
              0.4444444444444444,
              "#bd3786"
             ],
             [
              0.5555555555555556,
              "#d8576b"
             ],
             [
              0.6666666666666666,
              "#ed7953"
             ],
             [
              0.7777777777777778,
              "#fb9f3a"
             ],
             [
              0.8888888888888888,
              "#fdca26"
             ],
             [
              1,
              "#f0f921"
             ]
            ],
            "type": "histogram2d"
           }
          ],
          "histogram2dcontour": [
           {
            "colorbar": {
             "outlinewidth": 0,
             "ticks": ""
            },
            "colorscale": [
             [
              0,
              "#0d0887"
             ],
             [
              0.1111111111111111,
              "#46039f"
             ],
             [
              0.2222222222222222,
              "#7201a8"
             ],
             [
              0.3333333333333333,
              "#9c179e"
             ],
             [
              0.4444444444444444,
              "#bd3786"
             ],
             [
              0.5555555555555556,
              "#d8576b"
             ],
             [
              0.6666666666666666,
              "#ed7953"
             ],
             [
              0.7777777777777778,
              "#fb9f3a"
             ],
             [
              0.8888888888888888,
              "#fdca26"
             ],
             [
              1,
              "#f0f921"
             ]
            ],
            "type": "histogram2dcontour"
           }
          ],
          "mesh3d": [
           {
            "colorbar": {
             "outlinewidth": 0,
             "ticks": ""
            },
            "type": "mesh3d"
           }
          ],
          "parcoords": [
           {
            "line": {
             "colorbar": {
              "outlinewidth": 0,
              "ticks": ""
             }
            },
            "type": "parcoords"
           }
          ],
          "pie": [
           {
            "automargin": true,
            "type": "pie"
           }
          ],
          "scatter": [
           {
            "fillpattern": {
             "fillmode": "overlay",
             "size": 10,
             "solidity": 0.2
            },
            "type": "scatter"
           }
          ],
          "scatter3d": [
           {
            "line": {
             "colorbar": {
              "outlinewidth": 0,
              "ticks": ""
             }
            },
            "marker": {
             "colorbar": {
              "outlinewidth": 0,
              "ticks": ""
             }
            },
            "type": "scatter3d"
           }
          ],
          "scattercarpet": [
           {
            "marker": {
             "colorbar": {
              "outlinewidth": 0,
              "ticks": ""
             }
            },
            "type": "scattercarpet"
           }
          ],
          "scattergeo": [
           {
            "marker": {
             "colorbar": {
              "outlinewidth": 0,
              "ticks": ""
             }
            },
            "type": "scattergeo"
           }
          ],
          "scattergl": [
           {
            "marker": {
             "colorbar": {
              "outlinewidth": 0,
              "ticks": ""
             }
            },
            "type": "scattergl"
           }
          ],
          "scattermapbox": [
           {
            "marker": {
             "colorbar": {
              "outlinewidth": 0,
              "ticks": ""
             }
            },
            "type": "scattermapbox"
           }
          ],
          "scatterpolar": [
           {
            "marker": {
             "colorbar": {
              "outlinewidth": 0,
              "ticks": ""
             }
            },
            "type": "scatterpolar"
           }
          ],
          "scatterpolargl": [
           {
            "marker": {
             "colorbar": {
              "outlinewidth": 0,
              "ticks": ""
             }
            },
            "type": "scatterpolargl"
           }
          ],
          "scatterternary": [
           {
            "marker": {
             "colorbar": {
              "outlinewidth": 0,
              "ticks": ""
             }
            },
            "type": "scatterternary"
           }
          ],
          "surface": [
           {
            "colorbar": {
             "outlinewidth": 0,
             "ticks": ""
            },
            "colorscale": [
             [
              0,
              "#0d0887"
             ],
             [
              0.1111111111111111,
              "#46039f"
             ],
             [
              0.2222222222222222,
              "#7201a8"
             ],
             [
              0.3333333333333333,
              "#9c179e"
             ],
             [
              0.4444444444444444,
              "#bd3786"
             ],
             [
              0.5555555555555556,
              "#d8576b"
             ],
             [
              0.6666666666666666,
              "#ed7953"
             ],
             [
              0.7777777777777778,
              "#fb9f3a"
             ],
             [
              0.8888888888888888,
              "#fdca26"
             ],
             [
              1,
              "#f0f921"
             ]
            ],
            "type": "surface"
           }
          ],
          "table": [
           {
            "cells": {
             "fill": {
              "color": "#EBF0F8"
             },
             "line": {
              "color": "white"
             }
            },
            "header": {
             "fill": {
              "color": "#C8D4E3"
             },
             "line": {
              "color": "white"
             }
            },
            "type": "table"
           }
          ]
         },
         "layout": {
          "annotationdefaults": {
           "arrowcolor": "#2a3f5f",
           "arrowhead": 0,
           "arrowwidth": 1
          },
          "autotypenumbers": "strict",
          "coloraxis": {
           "colorbar": {
            "outlinewidth": 0,
            "ticks": ""
           }
          },
          "colorscale": {
           "diverging": [
            [
             0,
             "#8e0152"
            ],
            [
             0.1,
             "#c51b7d"
            ],
            [
             0.2,
             "#de77ae"
            ],
            [
             0.3,
             "#f1b6da"
            ],
            [
             0.4,
             "#fde0ef"
            ],
            [
             0.5,
             "#f7f7f7"
            ],
            [
             0.6,
             "#e6f5d0"
            ],
            [
             0.7,
             "#b8e186"
            ],
            [
             0.8,
             "#7fbc41"
            ],
            [
             0.9,
             "#4d9221"
            ],
            [
             1,
             "#276419"
            ]
           ],
           "sequential": [
            [
             0,
             "#0d0887"
            ],
            [
             0.1111111111111111,
             "#46039f"
            ],
            [
             0.2222222222222222,
             "#7201a8"
            ],
            [
             0.3333333333333333,
             "#9c179e"
            ],
            [
             0.4444444444444444,
             "#bd3786"
            ],
            [
             0.5555555555555556,
             "#d8576b"
            ],
            [
             0.6666666666666666,
             "#ed7953"
            ],
            [
             0.7777777777777778,
             "#fb9f3a"
            ],
            [
             0.8888888888888888,
             "#fdca26"
            ],
            [
             1,
             "#f0f921"
            ]
           ],
           "sequentialminus": [
            [
             0,
             "#0d0887"
            ],
            [
             0.1111111111111111,
             "#46039f"
            ],
            [
             0.2222222222222222,
             "#7201a8"
            ],
            [
             0.3333333333333333,
             "#9c179e"
            ],
            [
             0.4444444444444444,
             "#bd3786"
            ],
            [
             0.5555555555555556,
             "#d8576b"
            ],
            [
             0.6666666666666666,
             "#ed7953"
            ],
            [
             0.7777777777777778,
             "#fb9f3a"
            ],
            [
             0.8888888888888888,
             "#fdca26"
            ],
            [
             1,
             "#f0f921"
            ]
           ]
          },
          "colorway": [
           "#636efa",
           "#EF553B",
           "#00cc96",
           "#ab63fa",
           "#FFA15A",
           "#19d3f3",
           "#FF6692",
           "#B6E880",
           "#FF97FF",
           "#FECB52"
          ],
          "font": {
           "color": "#2a3f5f"
          },
          "geo": {
           "bgcolor": "white",
           "lakecolor": "white",
           "landcolor": "#E5ECF6",
           "showlakes": true,
           "showland": true,
           "subunitcolor": "white"
          },
          "hoverlabel": {
           "align": "left"
          },
          "hovermode": "closest",
          "mapbox": {
           "style": "light"
          },
          "paper_bgcolor": "white",
          "plot_bgcolor": "#E5ECF6",
          "polar": {
           "angularaxis": {
            "gridcolor": "white",
            "linecolor": "white",
            "ticks": ""
           },
           "bgcolor": "#E5ECF6",
           "radialaxis": {
            "gridcolor": "white",
            "linecolor": "white",
            "ticks": ""
           }
          },
          "scene": {
           "xaxis": {
            "backgroundcolor": "#E5ECF6",
            "gridcolor": "white",
            "gridwidth": 2,
            "linecolor": "white",
            "showbackground": true,
            "ticks": "",
            "zerolinecolor": "white"
           },
           "yaxis": {
            "backgroundcolor": "#E5ECF6",
            "gridcolor": "white",
            "gridwidth": 2,
            "linecolor": "white",
            "showbackground": true,
            "ticks": "",
            "zerolinecolor": "white"
           },
           "zaxis": {
            "backgroundcolor": "#E5ECF6",
            "gridcolor": "white",
            "gridwidth": 2,
            "linecolor": "white",
            "showbackground": true,
            "ticks": "",
            "zerolinecolor": "white"
           }
          },
          "shapedefaults": {
           "line": {
            "color": "#2a3f5f"
           }
          },
          "ternary": {
           "aaxis": {
            "gridcolor": "white",
            "linecolor": "white",
            "ticks": ""
           },
           "baxis": {
            "gridcolor": "white",
            "linecolor": "white",
            "ticks": ""
           },
           "bgcolor": "#E5ECF6",
           "caxis": {
            "gridcolor": "white",
            "linecolor": "white",
            "ticks": ""
           }
          },
          "title": {
           "x": 0.05
          },
          "xaxis": {
           "automargin": true,
           "gridcolor": "white",
           "linecolor": "white",
           "ticks": "",
           "title": {
            "standoff": 15
           },
           "zerolinecolor": "white",
           "zerolinewidth": 2
          },
          "yaxis": {
           "automargin": true,
           "gridcolor": "white",
           "linecolor": "white",
           "ticks": "",
           "title": {
            "standoff": 15
           },
           "zerolinecolor": "white",
           "zerolinewidth": 2
          }
         }
        },
        "title": {
         "text": "Association Rules Strength Distribution"
        },
        "xaxis": {
         "autorange": "reversed",
         "title": {
          "text": "Support"
         }
        },
        "yaxis": {
         "title": {
          "text": "Confidence"
         }
        }
       }
      }
     },
     "metadata": {},
     "output_type": "display_data"
    }
   ],
   "source": [
    "# Efficient apriori rules visualization\n",
    "\n",
    "PyARMViz.adjacency_parallel_coordinate_plot(rules_ap_ef1)\n",
    "PyARMViz.metadata_scatter_plot(rules_ap_ef1)"
   ]
  },
  {
   "cell_type": "code",
   "execution_count": 13,
   "metadata": {},
   "outputs": [
    {
     "data": {
      "application/vnd.plotly.v1+json": {
       "config": {
        "plotlyServerURL": "https://plot.ly"
       },
       "data": [
        {
         "dimensions": [
          {
           "label": "Antacedent 1",
           "range": [
            0,
            2
           ],
           "ticktext": [
            "Coffee",
            "Toast"
           ],
           "tickvals": [
            0,
            1
           ],
           "values": [
            1
           ]
          },
          {
           "label": "Consequent",
           "range": [
            0,
            2
           ],
           "ticktext": [
            "Coffee",
            "Toast"
           ],
           "tickvals": [
            0,
            1
           ],
           "values": [
            0
           ]
          }
         ],
         "line": {
          "color": [
           0.7
          ],
          "colorscale": [
           [
            0,
            "white"
           ],
           [
            1,
            "red"
           ]
          ]
         },
         "type": "parcoords"
        }
       ],
       "layout": {
        "paper_bgcolor": "white",
        "plot_bgcolor": "white",
        "template": {
         "data": {
          "bar": [
           {
            "error_x": {
             "color": "#2a3f5f"
            },
            "error_y": {
             "color": "#2a3f5f"
            },
            "marker": {
             "line": {
              "color": "#E5ECF6",
              "width": 0.5
             },
             "pattern": {
              "fillmode": "overlay",
              "size": 10,
              "solidity": 0.2
             }
            },
            "type": "bar"
           }
          ],
          "barpolar": [
           {
            "marker": {
             "line": {
              "color": "#E5ECF6",
              "width": 0.5
             },
             "pattern": {
              "fillmode": "overlay",
              "size": 10,
              "solidity": 0.2
             }
            },
            "type": "barpolar"
           }
          ],
          "carpet": [
           {
            "aaxis": {
             "endlinecolor": "#2a3f5f",
             "gridcolor": "white",
             "linecolor": "white",
             "minorgridcolor": "white",
             "startlinecolor": "#2a3f5f"
            },
            "baxis": {
             "endlinecolor": "#2a3f5f",
             "gridcolor": "white",
             "linecolor": "white",
             "minorgridcolor": "white",
             "startlinecolor": "#2a3f5f"
            },
            "type": "carpet"
           }
          ],
          "choropleth": [
           {
            "colorbar": {
             "outlinewidth": 0,
             "ticks": ""
            },
            "type": "choropleth"
           }
          ],
          "contour": [
           {
            "colorbar": {
             "outlinewidth": 0,
             "ticks": ""
            },
            "colorscale": [
             [
              0,
              "#0d0887"
             ],
             [
              0.1111111111111111,
              "#46039f"
             ],
             [
              0.2222222222222222,
              "#7201a8"
             ],
             [
              0.3333333333333333,
              "#9c179e"
             ],
             [
              0.4444444444444444,
              "#bd3786"
             ],
             [
              0.5555555555555556,
              "#d8576b"
             ],
             [
              0.6666666666666666,
              "#ed7953"
             ],
             [
              0.7777777777777778,
              "#fb9f3a"
             ],
             [
              0.8888888888888888,
              "#fdca26"
             ],
             [
              1,
              "#f0f921"
             ]
            ],
            "type": "contour"
           }
          ],
          "contourcarpet": [
           {
            "colorbar": {
             "outlinewidth": 0,
             "ticks": ""
            },
            "type": "contourcarpet"
           }
          ],
          "heatmap": [
           {
            "colorbar": {
             "outlinewidth": 0,
             "ticks": ""
            },
            "colorscale": [
             [
              0,
              "#0d0887"
             ],
             [
              0.1111111111111111,
              "#46039f"
             ],
             [
              0.2222222222222222,
              "#7201a8"
             ],
             [
              0.3333333333333333,
              "#9c179e"
             ],
             [
              0.4444444444444444,
              "#bd3786"
             ],
             [
              0.5555555555555556,
              "#d8576b"
             ],
             [
              0.6666666666666666,
              "#ed7953"
             ],
             [
              0.7777777777777778,
              "#fb9f3a"
             ],
             [
              0.8888888888888888,
              "#fdca26"
             ],
             [
              1,
              "#f0f921"
             ]
            ],
            "type": "heatmap"
           }
          ],
          "heatmapgl": [
           {
            "colorbar": {
             "outlinewidth": 0,
             "ticks": ""
            },
            "colorscale": [
             [
              0,
              "#0d0887"
             ],
             [
              0.1111111111111111,
              "#46039f"
             ],
             [
              0.2222222222222222,
              "#7201a8"
             ],
             [
              0.3333333333333333,
              "#9c179e"
             ],
             [
              0.4444444444444444,
              "#bd3786"
             ],
             [
              0.5555555555555556,
              "#d8576b"
             ],
             [
              0.6666666666666666,
              "#ed7953"
             ],
             [
              0.7777777777777778,
              "#fb9f3a"
             ],
             [
              0.8888888888888888,
              "#fdca26"
             ],
             [
              1,
              "#f0f921"
             ]
            ],
            "type": "heatmapgl"
           }
          ],
          "histogram": [
           {
            "marker": {
             "pattern": {
              "fillmode": "overlay",
              "size": 10,
              "solidity": 0.2
             }
            },
            "type": "histogram"
           }
          ],
          "histogram2d": [
           {
            "colorbar": {
             "outlinewidth": 0,
             "ticks": ""
            },
            "colorscale": [
             [
              0,
              "#0d0887"
             ],
             [
              0.1111111111111111,
              "#46039f"
             ],
             [
              0.2222222222222222,
              "#7201a8"
             ],
             [
              0.3333333333333333,
              "#9c179e"
             ],
             [
              0.4444444444444444,
              "#bd3786"
             ],
             [
              0.5555555555555556,
              "#d8576b"
             ],
             [
              0.6666666666666666,
              "#ed7953"
             ],
             [
              0.7777777777777778,
              "#fb9f3a"
             ],
             [
              0.8888888888888888,
              "#fdca26"
             ],
             [
              1,
              "#f0f921"
             ]
            ],
            "type": "histogram2d"
           }
          ],
          "histogram2dcontour": [
           {
            "colorbar": {
             "outlinewidth": 0,
             "ticks": ""
            },
            "colorscale": [
             [
              0,
              "#0d0887"
             ],
             [
              0.1111111111111111,
              "#46039f"
             ],
             [
              0.2222222222222222,
              "#7201a8"
             ],
             [
              0.3333333333333333,
              "#9c179e"
             ],
             [
              0.4444444444444444,
              "#bd3786"
             ],
             [
              0.5555555555555556,
              "#d8576b"
             ],
             [
              0.6666666666666666,
              "#ed7953"
             ],
             [
              0.7777777777777778,
              "#fb9f3a"
             ],
             [
              0.8888888888888888,
              "#fdca26"
             ],
             [
              1,
              "#f0f921"
             ]
            ],
            "type": "histogram2dcontour"
           }
          ],
          "mesh3d": [
           {
            "colorbar": {
             "outlinewidth": 0,
             "ticks": ""
            },
            "type": "mesh3d"
           }
          ],
          "parcoords": [
           {
            "line": {
             "colorbar": {
              "outlinewidth": 0,
              "ticks": ""
             }
            },
            "type": "parcoords"
           }
          ],
          "pie": [
           {
            "automargin": true,
            "type": "pie"
           }
          ],
          "scatter": [
           {
            "fillpattern": {
             "fillmode": "overlay",
             "size": 10,
             "solidity": 0.2
            },
            "type": "scatter"
           }
          ],
          "scatter3d": [
           {
            "line": {
             "colorbar": {
              "outlinewidth": 0,
              "ticks": ""
             }
            },
            "marker": {
             "colorbar": {
              "outlinewidth": 0,
              "ticks": ""
             }
            },
            "type": "scatter3d"
           }
          ],
          "scattercarpet": [
           {
            "marker": {
             "colorbar": {
              "outlinewidth": 0,
              "ticks": ""
             }
            },
            "type": "scattercarpet"
           }
          ],
          "scattergeo": [
           {
            "marker": {
             "colorbar": {
              "outlinewidth": 0,
              "ticks": ""
             }
            },
            "type": "scattergeo"
           }
          ],
          "scattergl": [
           {
            "marker": {
             "colorbar": {
              "outlinewidth": 0,
              "ticks": ""
             }
            },
            "type": "scattergl"
           }
          ],
          "scattermapbox": [
           {
            "marker": {
             "colorbar": {
              "outlinewidth": 0,
              "ticks": ""
             }
            },
            "type": "scattermapbox"
           }
          ],
          "scatterpolar": [
           {
            "marker": {
             "colorbar": {
              "outlinewidth": 0,
              "ticks": ""
             }
            },
            "type": "scatterpolar"
           }
          ],
          "scatterpolargl": [
           {
            "marker": {
             "colorbar": {
              "outlinewidth": 0,
              "ticks": ""
             }
            },
            "type": "scatterpolargl"
           }
          ],
          "scatterternary": [
           {
            "marker": {
             "colorbar": {
              "outlinewidth": 0,
              "ticks": ""
             }
            },
            "type": "scatterternary"
           }
          ],
          "surface": [
           {
            "colorbar": {
             "outlinewidth": 0,
             "ticks": ""
            },
            "colorscale": [
             [
              0,
              "#0d0887"
             ],
             [
              0.1111111111111111,
              "#46039f"
             ],
             [
              0.2222222222222222,
              "#7201a8"
             ],
             [
              0.3333333333333333,
              "#9c179e"
             ],
             [
              0.4444444444444444,
              "#bd3786"
             ],
             [
              0.5555555555555556,
              "#d8576b"
             ],
             [
              0.6666666666666666,
              "#ed7953"
             ],
             [
              0.7777777777777778,
              "#fb9f3a"
             ],
             [
              0.8888888888888888,
              "#fdca26"
             ],
             [
              1,
              "#f0f921"
             ]
            ],
            "type": "surface"
           }
          ],
          "table": [
           {
            "cells": {
             "fill": {
              "color": "#EBF0F8"
             },
             "line": {
              "color": "white"
             }
            },
            "header": {
             "fill": {
              "color": "#C8D4E3"
             },
             "line": {
              "color": "white"
             }
            },
            "type": "table"
           }
          ]
         },
         "layout": {
          "annotationdefaults": {
           "arrowcolor": "#2a3f5f",
           "arrowhead": 0,
           "arrowwidth": 1
          },
          "autotypenumbers": "strict",
          "coloraxis": {
           "colorbar": {
            "outlinewidth": 0,
            "ticks": ""
           }
          },
          "colorscale": {
           "diverging": [
            [
             0,
             "#8e0152"
            ],
            [
             0.1,
             "#c51b7d"
            ],
            [
             0.2,
             "#de77ae"
            ],
            [
             0.3,
             "#f1b6da"
            ],
            [
             0.4,
             "#fde0ef"
            ],
            [
             0.5,
             "#f7f7f7"
            ],
            [
             0.6,
             "#e6f5d0"
            ],
            [
             0.7,
             "#b8e186"
            ],
            [
             0.8,
             "#7fbc41"
            ],
            [
             0.9,
             "#4d9221"
            ],
            [
             1,
             "#276419"
            ]
           ],
           "sequential": [
            [
             0,
             "#0d0887"
            ],
            [
             0.1111111111111111,
             "#46039f"
            ],
            [
             0.2222222222222222,
             "#7201a8"
            ],
            [
             0.3333333333333333,
             "#9c179e"
            ],
            [
             0.4444444444444444,
             "#bd3786"
            ],
            [
             0.5555555555555556,
             "#d8576b"
            ],
            [
             0.6666666666666666,
             "#ed7953"
            ],
            [
             0.7777777777777778,
             "#fb9f3a"
            ],
            [
             0.8888888888888888,
             "#fdca26"
            ],
            [
             1,
             "#f0f921"
            ]
           ],
           "sequentialminus": [
            [
             0,
             "#0d0887"
            ],
            [
             0.1111111111111111,
             "#46039f"
            ],
            [
             0.2222222222222222,
             "#7201a8"
            ],
            [
             0.3333333333333333,
             "#9c179e"
            ],
            [
             0.4444444444444444,
             "#bd3786"
            ],
            [
             0.5555555555555556,
             "#d8576b"
            ],
            [
             0.6666666666666666,
             "#ed7953"
            ],
            [
             0.7777777777777778,
             "#fb9f3a"
            ],
            [
             0.8888888888888888,
             "#fdca26"
            ],
            [
             1,
             "#f0f921"
            ]
           ]
          },
          "colorway": [
           "#636efa",
           "#EF553B",
           "#00cc96",
           "#ab63fa",
           "#FFA15A",
           "#19d3f3",
           "#FF6692",
           "#B6E880",
           "#FF97FF",
           "#FECB52"
          ],
          "font": {
           "color": "#2a3f5f"
          },
          "geo": {
           "bgcolor": "white",
           "lakecolor": "white",
           "landcolor": "#E5ECF6",
           "showlakes": true,
           "showland": true,
           "subunitcolor": "white"
          },
          "hoverlabel": {
           "align": "left"
          },
          "hovermode": "closest",
          "mapbox": {
           "style": "light"
          },
          "paper_bgcolor": "white",
          "plot_bgcolor": "#E5ECF6",
          "polar": {
           "angularaxis": {
            "gridcolor": "white",
            "linecolor": "white",
            "ticks": ""
           },
           "bgcolor": "#E5ECF6",
           "radialaxis": {
            "gridcolor": "white",
            "linecolor": "white",
            "ticks": ""
           }
          },
          "scene": {
           "xaxis": {
            "backgroundcolor": "#E5ECF6",
            "gridcolor": "white",
            "gridwidth": 2,
            "linecolor": "white",
            "showbackground": true,
            "ticks": "",
            "zerolinecolor": "white"
           },
           "yaxis": {
            "backgroundcolor": "#E5ECF6",
            "gridcolor": "white",
            "gridwidth": 2,
            "linecolor": "white",
            "showbackground": true,
            "ticks": "",
            "zerolinecolor": "white"
           },
           "zaxis": {
            "backgroundcolor": "#E5ECF6",
            "gridcolor": "white",
            "gridwidth": 2,
            "linecolor": "white",
            "showbackground": true,
            "ticks": "",
            "zerolinecolor": "white"
           }
          },
          "shapedefaults": {
           "line": {
            "color": "#2a3f5f"
           }
          },
          "ternary": {
           "aaxis": {
            "gridcolor": "white",
            "linecolor": "white",
            "ticks": ""
           },
           "baxis": {
            "gridcolor": "white",
            "linecolor": "white",
            "ticks": ""
           },
           "bgcolor": "#E5ECF6",
           "caxis": {
            "gridcolor": "white",
            "linecolor": "white",
            "ticks": ""
           }
          },
          "title": {
           "x": 0.05
          },
          "xaxis": {
           "automargin": true,
           "gridcolor": "white",
           "linecolor": "white",
           "ticks": "",
           "title": {
            "standoff": 15
           },
           "zerolinecolor": "white",
           "zerolinewidth": 2
          },
          "yaxis": {
           "automargin": true,
           "gridcolor": "white",
           "linecolor": "white",
           "ticks": "",
           "title": {
            "standoff": 15
           },
           "zerolinecolor": "white",
           "zerolinewidth": 2
          }
         }
        }
       }
      }
     },
     "metadata": {},
     "output_type": "display_data"
    },
    {
     "data": {
      "application/vnd.plotly.v1+json": {
       "config": {
        "plotlyServerURL": "https://plot.ly"
       },
       "data": [
        {
         "marker": {
          "color": [
           1.4523372961889556
          ],
          "colorbar": {
           "title": {
            "text": "Lift"
           }
          },
          "colorscale": [
           [
            0,
            "rgb(243, 224, 247)"
           ],
           [
            0.16666666666666666,
            "rgb(228, 199, 241)"
           ],
           [
            0.3333333333333333,
            "rgb(209, 175, 232)"
           ],
           [
            0.5,
            "rgb(185, 152, 221)"
           ],
           [
            0.6666666666666666,
            "rgb(159, 130, 206)"
           ],
           [
            0.8333333333333334,
            "rgb(130, 109, 186)"
           ],
           [
            1,
            "rgb(99, 88, 159)"
           ]
          ]
         },
         "mode": "markers",
         "text": [
          "('Toast',) => ('Coffee',), Lift: 1.4523372961889556"
         ],
         "type": "scatter",
         "x": [
          0.02432667245873154
         ],
         "y": [
          0.7044025157232704
         ]
        }
       ],
       "layout": {
        "template": {
         "data": {
          "bar": [
           {
            "error_x": {
             "color": "#2a3f5f"
            },
            "error_y": {
             "color": "#2a3f5f"
            },
            "marker": {
             "line": {
              "color": "#E5ECF6",
              "width": 0.5
             },
             "pattern": {
              "fillmode": "overlay",
              "size": 10,
              "solidity": 0.2
             }
            },
            "type": "bar"
           }
          ],
          "barpolar": [
           {
            "marker": {
             "line": {
              "color": "#E5ECF6",
              "width": 0.5
             },
             "pattern": {
              "fillmode": "overlay",
              "size": 10,
              "solidity": 0.2
             }
            },
            "type": "barpolar"
           }
          ],
          "carpet": [
           {
            "aaxis": {
             "endlinecolor": "#2a3f5f",
             "gridcolor": "white",
             "linecolor": "white",
             "minorgridcolor": "white",
             "startlinecolor": "#2a3f5f"
            },
            "baxis": {
             "endlinecolor": "#2a3f5f",
             "gridcolor": "white",
             "linecolor": "white",
             "minorgridcolor": "white",
             "startlinecolor": "#2a3f5f"
            },
            "type": "carpet"
           }
          ],
          "choropleth": [
           {
            "colorbar": {
             "outlinewidth": 0,
             "ticks": ""
            },
            "type": "choropleth"
           }
          ],
          "contour": [
           {
            "colorbar": {
             "outlinewidth": 0,
             "ticks": ""
            },
            "colorscale": [
             [
              0,
              "#0d0887"
             ],
             [
              0.1111111111111111,
              "#46039f"
             ],
             [
              0.2222222222222222,
              "#7201a8"
             ],
             [
              0.3333333333333333,
              "#9c179e"
             ],
             [
              0.4444444444444444,
              "#bd3786"
             ],
             [
              0.5555555555555556,
              "#d8576b"
             ],
             [
              0.6666666666666666,
              "#ed7953"
             ],
             [
              0.7777777777777778,
              "#fb9f3a"
             ],
             [
              0.8888888888888888,
              "#fdca26"
             ],
             [
              1,
              "#f0f921"
             ]
            ],
            "type": "contour"
           }
          ],
          "contourcarpet": [
           {
            "colorbar": {
             "outlinewidth": 0,
             "ticks": ""
            },
            "type": "contourcarpet"
           }
          ],
          "heatmap": [
           {
            "colorbar": {
             "outlinewidth": 0,
             "ticks": ""
            },
            "colorscale": [
             [
              0,
              "#0d0887"
             ],
             [
              0.1111111111111111,
              "#46039f"
             ],
             [
              0.2222222222222222,
              "#7201a8"
             ],
             [
              0.3333333333333333,
              "#9c179e"
             ],
             [
              0.4444444444444444,
              "#bd3786"
             ],
             [
              0.5555555555555556,
              "#d8576b"
             ],
             [
              0.6666666666666666,
              "#ed7953"
             ],
             [
              0.7777777777777778,
              "#fb9f3a"
             ],
             [
              0.8888888888888888,
              "#fdca26"
             ],
             [
              1,
              "#f0f921"
             ]
            ],
            "type": "heatmap"
           }
          ],
          "heatmapgl": [
           {
            "colorbar": {
             "outlinewidth": 0,
             "ticks": ""
            },
            "colorscale": [
             [
              0,
              "#0d0887"
             ],
             [
              0.1111111111111111,
              "#46039f"
             ],
             [
              0.2222222222222222,
              "#7201a8"
             ],
             [
              0.3333333333333333,
              "#9c179e"
             ],
             [
              0.4444444444444444,
              "#bd3786"
             ],
             [
              0.5555555555555556,
              "#d8576b"
             ],
             [
              0.6666666666666666,
              "#ed7953"
             ],
             [
              0.7777777777777778,
              "#fb9f3a"
             ],
             [
              0.8888888888888888,
              "#fdca26"
             ],
             [
              1,
              "#f0f921"
             ]
            ],
            "type": "heatmapgl"
           }
          ],
          "histogram": [
           {
            "marker": {
             "pattern": {
              "fillmode": "overlay",
              "size": 10,
              "solidity": 0.2
             }
            },
            "type": "histogram"
           }
          ],
          "histogram2d": [
           {
            "colorbar": {
             "outlinewidth": 0,
             "ticks": ""
            },
            "colorscale": [
             [
              0,
              "#0d0887"
             ],
             [
              0.1111111111111111,
              "#46039f"
             ],
             [
              0.2222222222222222,
              "#7201a8"
             ],
             [
              0.3333333333333333,
              "#9c179e"
             ],
             [
              0.4444444444444444,
              "#bd3786"
             ],
             [
              0.5555555555555556,
              "#d8576b"
             ],
             [
              0.6666666666666666,
              "#ed7953"
             ],
             [
              0.7777777777777778,
              "#fb9f3a"
             ],
             [
              0.8888888888888888,
              "#fdca26"
             ],
             [
              1,
              "#f0f921"
             ]
            ],
            "type": "histogram2d"
           }
          ],
          "histogram2dcontour": [
           {
            "colorbar": {
             "outlinewidth": 0,
             "ticks": ""
            },
            "colorscale": [
             [
              0,
              "#0d0887"
             ],
             [
              0.1111111111111111,
              "#46039f"
             ],
             [
              0.2222222222222222,
              "#7201a8"
             ],
             [
              0.3333333333333333,
              "#9c179e"
             ],
             [
              0.4444444444444444,
              "#bd3786"
             ],
             [
              0.5555555555555556,
              "#d8576b"
             ],
             [
              0.6666666666666666,
              "#ed7953"
             ],
             [
              0.7777777777777778,
              "#fb9f3a"
             ],
             [
              0.8888888888888888,
              "#fdca26"
             ],
             [
              1,
              "#f0f921"
             ]
            ],
            "type": "histogram2dcontour"
           }
          ],
          "mesh3d": [
           {
            "colorbar": {
             "outlinewidth": 0,
             "ticks": ""
            },
            "type": "mesh3d"
           }
          ],
          "parcoords": [
           {
            "line": {
             "colorbar": {
              "outlinewidth": 0,
              "ticks": ""
             }
            },
            "type": "parcoords"
           }
          ],
          "pie": [
           {
            "automargin": true,
            "type": "pie"
           }
          ],
          "scatter": [
           {
            "fillpattern": {
             "fillmode": "overlay",
             "size": 10,
             "solidity": 0.2
            },
            "type": "scatter"
           }
          ],
          "scatter3d": [
           {
            "line": {
             "colorbar": {
              "outlinewidth": 0,
              "ticks": ""
             }
            },
            "marker": {
             "colorbar": {
              "outlinewidth": 0,
              "ticks": ""
             }
            },
            "type": "scatter3d"
           }
          ],
          "scattercarpet": [
           {
            "marker": {
             "colorbar": {
              "outlinewidth": 0,
              "ticks": ""
             }
            },
            "type": "scattercarpet"
           }
          ],
          "scattergeo": [
           {
            "marker": {
             "colorbar": {
              "outlinewidth": 0,
              "ticks": ""
             }
            },
            "type": "scattergeo"
           }
          ],
          "scattergl": [
           {
            "marker": {
             "colorbar": {
              "outlinewidth": 0,
              "ticks": ""
             }
            },
            "type": "scattergl"
           }
          ],
          "scattermapbox": [
           {
            "marker": {
             "colorbar": {
              "outlinewidth": 0,
              "ticks": ""
             }
            },
            "type": "scattermapbox"
           }
          ],
          "scatterpolar": [
           {
            "marker": {
             "colorbar": {
              "outlinewidth": 0,
              "ticks": ""
             }
            },
            "type": "scatterpolar"
           }
          ],
          "scatterpolargl": [
           {
            "marker": {
             "colorbar": {
              "outlinewidth": 0,
              "ticks": ""
             }
            },
            "type": "scatterpolargl"
           }
          ],
          "scatterternary": [
           {
            "marker": {
             "colorbar": {
              "outlinewidth": 0,
              "ticks": ""
             }
            },
            "type": "scatterternary"
           }
          ],
          "surface": [
           {
            "colorbar": {
             "outlinewidth": 0,
             "ticks": ""
            },
            "colorscale": [
             [
              0,
              "#0d0887"
             ],
             [
              0.1111111111111111,
              "#46039f"
             ],
             [
              0.2222222222222222,
              "#7201a8"
             ],
             [
              0.3333333333333333,
              "#9c179e"
             ],
             [
              0.4444444444444444,
              "#bd3786"
             ],
             [
              0.5555555555555556,
              "#d8576b"
             ],
             [
              0.6666666666666666,
              "#ed7953"
             ],
             [
              0.7777777777777778,
              "#fb9f3a"
             ],
             [
              0.8888888888888888,
              "#fdca26"
             ],
             [
              1,
              "#f0f921"
             ]
            ],
            "type": "surface"
           }
          ],
          "table": [
           {
            "cells": {
             "fill": {
              "color": "#EBF0F8"
             },
             "line": {
              "color": "white"
             }
            },
            "header": {
             "fill": {
              "color": "#C8D4E3"
             },
             "line": {
              "color": "white"
             }
            },
            "type": "table"
           }
          ]
         },
         "layout": {
          "annotationdefaults": {
           "arrowcolor": "#2a3f5f",
           "arrowhead": 0,
           "arrowwidth": 1
          },
          "autotypenumbers": "strict",
          "coloraxis": {
           "colorbar": {
            "outlinewidth": 0,
            "ticks": ""
           }
          },
          "colorscale": {
           "diverging": [
            [
             0,
             "#8e0152"
            ],
            [
             0.1,
             "#c51b7d"
            ],
            [
             0.2,
             "#de77ae"
            ],
            [
             0.3,
             "#f1b6da"
            ],
            [
             0.4,
             "#fde0ef"
            ],
            [
             0.5,
             "#f7f7f7"
            ],
            [
             0.6,
             "#e6f5d0"
            ],
            [
             0.7,
             "#b8e186"
            ],
            [
             0.8,
             "#7fbc41"
            ],
            [
             0.9,
             "#4d9221"
            ],
            [
             1,
             "#276419"
            ]
           ],
           "sequential": [
            [
             0,
             "#0d0887"
            ],
            [
             0.1111111111111111,
             "#46039f"
            ],
            [
             0.2222222222222222,
             "#7201a8"
            ],
            [
             0.3333333333333333,
             "#9c179e"
            ],
            [
             0.4444444444444444,
             "#bd3786"
            ],
            [
             0.5555555555555556,
             "#d8576b"
            ],
            [
             0.6666666666666666,
             "#ed7953"
            ],
            [
             0.7777777777777778,
             "#fb9f3a"
            ],
            [
             0.8888888888888888,
             "#fdca26"
            ],
            [
             1,
             "#f0f921"
            ]
           ],
           "sequentialminus": [
            [
             0,
             "#0d0887"
            ],
            [
             0.1111111111111111,
             "#46039f"
            ],
            [
             0.2222222222222222,
             "#7201a8"
            ],
            [
             0.3333333333333333,
             "#9c179e"
            ],
            [
             0.4444444444444444,
             "#bd3786"
            ],
            [
             0.5555555555555556,
             "#d8576b"
            ],
            [
             0.6666666666666666,
             "#ed7953"
            ],
            [
             0.7777777777777778,
             "#fb9f3a"
            ],
            [
             0.8888888888888888,
             "#fdca26"
            ],
            [
             1,
             "#f0f921"
            ]
           ]
          },
          "colorway": [
           "#636efa",
           "#EF553B",
           "#00cc96",
           "#ab63fa",
           "#FFA15A",
           "#19d3f3",
           "#FF6692",
           "#B6E880",
           "#FF97FF",
           "#FECB52"
          ],
          "font": {
           "color": "#2a3f5f"
          },
          "geo": {
           "bgcolor": "white",
           "lakecolor": "white",
           "landcolor": "#E5ECF6",
           "showlakes": true,
           "showland": true,
           "subunitcolor": "white"
          },
          "hoverlabel": {
           "align": "left"
          },
          "hovermode": "closest",
          "mapbox": {
           "style": "light"
          },
          "paper_bgcolor": "white",
          "plot_bgcolor": "#E5ECF6",
          "polar": {
           "angularaxis": {
            "gridcolor": "white",
            "linecolor": "white",
            "ticks": ""
           },
           "bgcolor": "#E5ECF6",
           "radialaxis": {
            "gridcolor": "white",
            "linecolor": "white",
            "ticks": ""
           }
          },
          "scene": {
           "xaxis": {
            "backgroundcolor": "#E5ECF6",
            "gridcolor": "white",
            "gridwidth": 2,
            "linecolor": "white",
            "showbackground": true,
            "ticks": "",
            "zerolinecolor": "white"
           },
           "yaxis": {
            "backgroundcolor": "#E5ECF6",
            "gridcolor": "white",
            "gridwidth": 2,
            "linecolor": "white",
            "showbackground": true,
            "ticks": "",
            "zerolinecolor": "white"
           },
           "zaxis": {
            "backgroundcolor": "#E5ECF6",
            "gridcolor": "white",
            "gridwidth": 2,
            "linecolor": "white",
            "showbackground": true,
            "ticks": "",
            "zerolinecolor": "white"
           }
          },
          "shapedefaults": {
           "line": {
            "color": "#2a3f5f"
           }
          },
          "ternary": {
           "aaxis": {
            "gridcolor": "white",
            "linecolor": "white",
            "ticks": ""
           },
           "baxis": {
            "gridcolor": "white",
            "linecolor": "white",
            "ticks": ""
           },
           "bgcolor": "#E5ECF6",
           "caxis": {
            "gridcolor": "white",
            "linecolor": "white",
            "ticks": ""
           }
          },
          "title": {
           "x": 0.05
          },
          "xaxis": {
           "automargin": true,
           "gridcolor": "white",
           "linecolor": "white",
           "ticks": "",
           "title": {
            "standoff": 15
           },
           "zerolinecolor": "white",
           "zerolinewidth": 2
          },
          "yaxis": {
           "automargin": true,
           "gridcolor": "white",
           "linecolor": "white",
           "ticks": "",
           "title": {
            "standoff": 15
           },
           "zerolinecolor": "white",
           "zerolinewidth": 2
          }
         }
        },
        "title": {
         "text": "Association Rules Strength Distribution"
        },
        "xaxis": {
         "autorange": "reversed",
         "title": {
          "text": "Support"
         }
        },
        "yaxis": {
         "title": {
          "text": "Confidence"
         }
        }
       }
      }
     },
     "metadata": {},
     "output_type": "display_data"
    },
    {
     "data": {
      "application/vnd.plotly.v1+json": {
       "config": {
        "plotlyServerURL": "https://plot.ly"
       },
       "data": [
        {
         "marker": {
          "color": [
           1.4523372961889556
          ],
          "colorbar": {
           "title": {
            "text": "Lift"
           }
          },
          "colorscale": [
           [
            0,
            "rgb(243, 224, 247)"
           ],
           [
            0.16666666666666666,
            "rgb(228, 199, 241)"
           ],
           [
            0.3333333333333333,
            "rgb(209, 175, 232)"
           ],
           [
            0.5,
            "rgb(185, 152, 221)"
           ],
           [
            0.6666666666666666,
            "rgb(159, 130, 206)"
           ],
           [
            0.8333333333333334,
            "rgb(130, 109, 186)"
           ],
           [
            1,
            "rgb(99, 88, 159)"
           ]
          ]
         },
         "mode": "markers",
         "text": [
          "('Toast',) => ('Coffee',), Lift: 1.4523372961889556"
         ],
         "type": "scatter",
         "x": [
          0.02432667245873154
         ],
         "y": [
          0.7044025157232704
         ]
        }
       ],
       "layout": {
        "template": {
         "data": {
          "bar": [
           {
            "error_x": {
             "color": "#2a3f5f"
            },
            "error_y": {
             "color": "#2a3f5f"
            },
            "marker": {
             "line": {
              "color": "#E5ECF6",
              "width": 0.5
             },
             "pattern": {
              "fillmode": "overlay",
              "size": 10,
              "solidity": 0.2
             }
            },
            "type": "bar"
           }
          ],
          "barpolar": [
           {
            "marker": {
             "line": {
              "color": "#E5ECF6",
              "width": 0.5
             },
             "pattern": {
              "fillmode": "overlay",
              "size": 10,
              "solidity": 0.2
             }
            },
            "type": "barpolar"
           }
          ],
          "carpet": [
           {
            "aaxis": {
             "endlinecolor": "#2a3f5f",
             "gridcolor": "white",
             "linecolor": "white",
             "minorgridcolor": "white",
             "startlinecolor": "#2a3f5f"
            },
            "baxis": {
             "endlinecolor": "#2a3f5f",
             "gridcolor": "white",
             "linecolor": "white",
             "minorgridcolor": "white",
             "startlinecolor": "#2a3f5f"
            },
            "type": "carpet"
           }
          ],
          "choropleth": [
           {
            "colorbar": {
             "outlinewidth": 0,
             "ticks": ""
            },
            "type": "choropleth"
           }
          ],
          "contour": [
           {
            "colorbar": {
             "outlinewidth": 0,
             "ticks": ""
            },
            "colorscale": [
             [
              0,
              "#0d0887"
             ],
             [
              0.1111111111111111,
              "#46039f"
             ],
             [
              0.2222222222222222,
              "#7201a8"
             ],
             [
              0.3333333333333333,
              "#9c179e"
             ],
             [
              0.4444444444444444,
              "#bd3786"
             ],
             [
              0.5555555555555556,
              "#d8576b"
             ],
             [
              0.6666666666666666,
              "#ed7953"
             ],
             [
              0.7777777777777778,
              "#fb9f3a"
             ],
             [
              0.8888888888888888,
              "#fdca26"
             ],
             [
              1,
              "#f0f921"
             ]
            ],
            "type": "contour"
           }
          ],
          "contourcarpet": [
           {
            "colorbar": {
             "outlinewidth": 0,
             "ticks": ""
            },
            "type": "contourcarpet"
           }
          ],
          "heatmap": [
           {
            "colorbar": {
             "outlinewidth": 0,
             "ticks": ""
            },
            "colorscale": [
             [
              0,
              "#0d0887"
             ],
             [
              0.1111111111111111,
              "#46039f"
             ],
             [
              0.2222222222222222,
              "#7201a8"
             ],
             [
              0.3333333333333333,
              "#9c179e"
             ],
             [
              0.4444444444444444,
              "#bd3786"
             ],
             [
              0.5555555555555556,
              "#d8576b"
             ],
             [
              0.6666666666666666,
              "#ed7953"
             ],
             [
              0.7777777777777778,
              "#fb9f3a"
             ],
             [
              0.8888888888888888,
              "#fdca26"
             ],
             [
              1,
              "#f0f921"
             ]
            ],
            "type": "heatmap"
           }
          ],
          "heatmapgl": [
           {
            "colorbar": {
             "outlinewidth": 0,
             "ticks": ""
            },
            "colorscale": [
             [
              0,
              "#0d0887"
             ],
             [
              0.1111111111111111,
              "#46039f"
             ],
             [
              0.2222222222222222,
              "#7201a8"
             ],
             [
              0.3333333333333333,
              "#9c179e"
             ],
             [
              0.4444444444444444,
              "#bd3786"
             ],
             [
              0.5555555555555556,
              "#d8576b"
             ],
             [
              0.6666666666666666,
              "#ed7953"
             ],
             [
              0.7777777777777778,
              "#fb9f3a"
             ],
             [
              0.8888888888888888,
              "#fdca26"
             ],
             [
              1,
              "#f0f921"
             ]
            ],
            "type": "heatmapgl"
           }
          ],
          "histogram": [
           {
            "marker": {
             "pattern": {
              "fillmode": "overlay",
              "size": 10,
              "solidity": 0.2
             }
            },
            "type": "histogram"
           }
          ],
          "histogram2d": [
           {
            "colorbar": {
             "outlinewidth": 0,
             "ticks": ""
            },
            "colorscale": [
             [
              0,
              "#0d0887"
             ],
             [
              0.1111111111111111,
              "#46039f"
             ],
             [
              0.2222222222222222,
              "#7201a8"
             ],
             [
              0.3333333333333333,
              "#9c179e"
             ],
             [
              0.4444444444444444,
              "#bd3786"
             ],
             [
              0.5555555555555556,
              "#d8576b"
             ],
             [
              0.6666666666666666,
              "#ed7953"
             ],
             [
              0.7777777777777778,
              "#fb9f3a"
             ],
             [
              0.8888888888888888,
              "#fdca26"
             ],
             [
              1,
              "#f0f921"
             ]
            ],
            "type": "histogram2d"
           }
          ],
          "histogram2dcontour": [
           {
            "colorbar": {
             "outlinewidth": 0,
             "ticks": ""
            },
            "colorscale": [
             [
              0,
              "#0d0887"
             ],
             [
              0.1111111111111111,
              "#46039f"
             ],
             [
              0.2222222222222222,
              "#7201a8"
             ],
             [
              0.3333333333333333,
              "#9c179e"
             ],
             [
              0.4444444444444444,
              "#bd3786"
             ],
             [
              0.5555555555555556,
              "#d8576b"
             ],
             [
              0.6666666666666666,
              "#ed7953"
             ],
             [
              0.7777777777777778,
              "#fb9f3a"
             ],
             [
              0.8888888888888888,
              "#fdca26"
             ],
             [
              1,
              "#f0f921"
             ]
            ],
            "type": "histogram2dcontour"
           }
          ],
          "mesh3d": [
           {
            "colorbar": {
             "outlinewidth": 0,
             "ticks": ""
            },
            "type": "mesh3d"
           }
          ],
          "parcoords": [
           {
            "line": {
             "colorbar": {
              "outlinewidth": 0,
              "ticks": ""
             }
            },
            "type": "parcoords"
           }
          ],
          "pie": [
           {
            "automargin": true,
            "type": "pie"
           }
          ],
          "scatter": [
           {
            "fillpattern": {
             "fillmode": "overlay",
             "size": 10,
             "solidity": 0.2
            },
            "type": "scatter"
           }
          ],
          "scatter3d": [
           {
            "line": {
             "colorbar": {
              "outlinewidth": 0,
              "ticks": ""
             }
            },
            "marker": {
             "colorbar": {
              "outlinewidth": 0,
              "ticks": ""
             }
            },
            "type": "scatter3d"
           }
          ],
          "scattercarpet": [
           {
            "marker": {
             "colorbar": {
              "outlinewidth": 0,
              "ticks": ""
             }
            },
            "type": "scattercarpet"
           }
          ],
          "scattergeo": [
           {
            "marker": {
             "colorbar": {
              "outlinewidth": 0,
              "ticks": ""
             }
            },
            "type": "scattergeo"
           }
          ],
          "scattergl": [
           {
            "marker": {
             "colorbar": {
              "outlinewidth": 0,
              "ticks": ""
             }
            },
            "type": "scattergl"
           }
          ],
          "scattermapbox": [
           {
            "marker": {
             "colorbar": {
              "outlinewidth": 0,
              "ticks": ""
             }
            },
            "type": "scattermapbox"
           }
          ],
          "scatterpolar": [
           {
            "marker": {
             "colorbar": {
              "outlinewidth": 0,
              "ticks": ""
             }
            },
            "type": "scatterpolar"
           }
          ],
          "scatterpolargl": [
           {
            "marker": {
             "colorbar": {
              "outlinewidth": 0,
              "ticks": ""
             }
            },
            "type": "scatterpolargl"
           }
          ],
          "scatterternary": [
           {
            "marker": {
             "colorbar": {
              "outlinewidth": 0,
              "ticks": ""
             }
            },
            "type": "scatterternary"
           }
          ],
          "surface": [
           {
            "colorbar": {
             "outlinewidth": 0,
             "ticks": ""
            },
            "colorscale": [
             [
              0,
              "#0d0887"
             ],
             [
              0.1111111111111111,
              "#46039f"
             ],
             [
              0.2222222222222222,
              "#7201a8"
             ],
             [
              0.3333333333333333,
              "#9c179e"
             ],
             [
              0.4444444444444444,
              "#bd3786"
             ],
             [
              0.5555555555555556,
              "#d8576b"
             ],
             [
              0.6666666666666666,
              "#ed7953"
             ],
             [
              0.7777777777777778,
              "#fb9f3a"
             ],
             [
              0.8888888888888888,
              "#fdca26"
             ],
             [
              1,
              "#f0f921"
             ]
            ],
            "type": "surface"
           }
          ],
          "table": [
           {
            "cells": {
             "fill": {
              "color": "#EBF0F8"
             },
             "line": {
              "color": "white"
             }
            },
            "header": {
             "fill": {
              "color": "#C8D4E3"
             },
             "line": {
              "color": "white"
             }
            },
            "type": "table"
           }
          ]
         },
         "layout": {
          "annotationdefaults": {
           "arrowcolor": "#2a3f5f",
           "arrowhead": 0,
           "arrowwidth": 1
          },
          "autotypenumbers": "strict",
          "coloraxis": {
           "colorbar": {
            "outlinewidth": 0,
            "ticks": ""
           }
          },
          "colorscale": {
           "diverging": [
            [
             0,
             "#8e0152"
            ],
            [
             0.1,
             "#c51b7d"
            ],
            [
             0.2,
             "#de77ae"
            ],
            [
             0.3,
             "#f1b6da"
            ],
            [
             0.4,
             "#fde0ef"
            ],
            [
             0.5,
             "#f7f7f7"
            ],
            [
             0.6,
             "#e6f5d0"
            ],
            [
             0.7,
             "#b8e186"
            ],
            [
             0.8,
             "#7fbc41"
            ],
            [
             0.9,
             "#4d9221"
            ],
            [
             1,
             "#276419"
            ]
           ],
           "sequential": [
            [
             0,
             "#0d0887"
            ],
            [
             0.1111111111111111,
             "#46039f"
            ],
            [
             0.2222222222222222,
             "#7201a8"
            ],
            [
             0.3333333333333333,
             "#9c179e"
            ],
            [
             0.4444444444444444,
             "#bd3786"
            ],
            [
             0.5555555555555556,
             "#d8576b"
            ],
            [
             0.6666666666666666,
             "#ed7953"
            ],
            [
             0.7777777777777778,
             "#fb9f3a"
            ],
            [
             0.8888888888888888,
             "#fdca26"
            ],
            [
             1,
             "#f0f921"
            ]
           ],
           "sequentialminus": [
            [
             0,
             "#0d0887"
            ],
            [
             0.1111111111111111,
             "#46039f"
            ],
            [
             0.2222222222222222,
             "#7201a8"
            ],
            [
             0.3333333333333333,
             "#9c179e"
            ],
            [
             0.4444444444444444,
             "#bd3786"
            ],
            [
             0.5555555555555556,
             "#d8576b"
            ],
            [
             0.6666666666666666,
             "#ed7953"
            ],
            [
             0.7777777777777778,
             "#fb9f3a"
            ],
            [
             0.8888888888888888,
             "#fdca26"
            ],
            [
             1,
             "#f0f921"
            ]
           ]
          },
          "colorway": [
           "#636efa",
           "#EF553B",
           "#00cc96",
           "#ab63fa",
           "#FFA15A",
           "#19d3f3",
           "#FF6692",
           "#B6E880",
           "#FF97FF",
           "#FECB52"
          ],
          "font": {
           "color": "#2a3f5f"
          },
          "geo": {
           "bgcolor": "white",
           "lakecolor": "white",
           "landcolor": "#E5ECF6",
           "showlakes": true,
           "showland": true,
           "subunitcolor": "white"
          },
          "hoverlabel": {
           "align": "left"
          },
          "hovermode": "closest",
          "mapbox": {
           "style": "light"
          },
          "paper_bgcolor": "white",
          "plot_bgcolor": "#E5ECF6",
          "polar": {
           "angularaxis": {
            "gridcolor": "white",
            "linecolor": "white",
            "ticks": ""
           },
           "bgcolor": "#E5ECF6",
           "radialaxis": {
            "gridcolor": "white",
            "linecolor": "white",
            "ticks": ""
           }
          },
          "scene": {
           "xaxis": {
            "backgroundcolor": "#E5ECF6",
            "gridcolor": "white",
            "gridwidth": 2,
            "linecolor": "white",
            "showbackground": true,
            "ticks": "",
            "zerolinecolor": "white"
           },
           "yaxis": {
            "backgroundcolor": "#E5ECF6",
            "gridcolor": "white",
            "gridwidth": 2,
            "linecolor": "white",
            "showbackground": true,
            "ticks": "",
            "zerolinecolor": "white"
           },
           "zaxis": {
            "backgroundcolor": "#E5ECF6",
            "gridcolor": "white",
            "gridwidth": 2,
            "linecolor": "white",
            "showbackground": true,
            "ticks": "",
            "zerolinecolor": "white"
           }
          },
          "shapedefaults": {
           "line": {
            "color": "#2a3f5f"
           }
          },
          "ternary": {
           "aaxis": {
            "gridcolor": "white",
            "linecolor": "white",
            "ticks": ""
           },
           "baxis": {
            "gridcolor": "white",
            "linecolor": "white",
            "ticks": ""
           },
           "bgcolor": "#E5ECF6",
           "caxis": {
            "gridcolor": "white",
            "linecolor": "white",
            "ticks": ""
           }
          },
          "title": {
           "x": 0.05
          },
          "xaxis": {
           "automargin": true,
           "gridcolor": "white",
           "linecolor": "white",
           "ticks": "",
           "title": {
            "standoff": 15
           },
           "zerolinecolor": "white",
           "zerolinewidth": 2
          },
          "yaxis": {
           "automargin": true,
           "gridcolor": "white",
           "linecolor": "white",
           "ticks": "",
           "title": {
            "standoff": 15
           },
           "zerolinecolor": "white",
           "zerolinewidth": 2
          }
         }
        },
        "title": {
         "text": "Association Rules Strength Distribution"
        },
        "xaxis": {
         "autorange": "reversed",
         "title": {
          "text": "Support"
         }
        },
        "yaxis": {
         "title": {
          "text": "Confidence"
         }
        }
       }
      }
     },
     "metadata": {},
     "output_type": "display_data"
    }
   ],
   "source": [
    "# Efficient apriori rules visualization\n",
    "\n",
    "PyARMViz.adjacency_parallel_coordinate_plot(rules_ap_ef2)\n",
    "PyARMViz.metadata_scatter_plot(rules_ap_ef2)"
   ]
  },
  {
   "cell_type": "markdown",
   "metadata": {},
   "source": [
    "# Выводы по проделанной работе:\n",
    "\n",
    "* Получены базовые знания в области анализа транзакий на основе ассоциативных правил\n",
    "* Рассмотрены разные алгоритмы постройки ассоциативных правил\n",
    "    * Самым эффективным по обработке данных стал метод **efficient_apriori**, *t = 0,13 сек.*\n",
    "* Полученные данные позволяют сделать выводы по предпочтениям покупателей при выборе товаров и зависимости принятия решений  "
   ]
  }
 ],
 "metadata": {
  "kernelspec": {
   "display_name": "Python 3",
   "language": "python",
   "name": "python3"
  },
  "language_info": {
   "codemirror_mode": {
    "name": "ipython",
    "version": 3
   },
   "file_extension": ".py",
   "mimetype": "text/x-python",
   "name": "python",
   "nbconvert_exporter": "python",
   "pygments_lexer": "ipython3",
   "version": "3.11.5"
  },
  "orig_nbformat": 4
 },
 "nbformat": 4,
 "nbformat_minor": 2
}
